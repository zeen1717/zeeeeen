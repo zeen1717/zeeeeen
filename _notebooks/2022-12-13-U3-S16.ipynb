{
 "cells": [
  {
   "attachments": {},
   "cell_type": "markdown",
   "metadata": {},
   "source": [
    "# U3 S16\n",
    "- toc: true\n",
    "- comments: true"
   ]
  },
  {
   "attachments": {},
   "cell_type": "markdown",
   "metadata": {},
   "source": [
    "## Notes"
   ]
  },
  {
   "attachments": {},
   "cell_type": "markdown",
   "metadata": {},
   "source": [
    "Simulation: Simple abstraction of complex natural phenomena\n",
    "\n",
    "Simulations need to model complex situations in a simpler way\n",
    "\n",
    "Simulation is not limited by the time, money and safety of real life\n",
    "\n",
    "There is no such thing as \"true random\" in the real world\n",
    "\n",
    "Pseudo-random number generators can simulate flaws that always exist in the real world and save resources, testing multiple possibilities\n",
    "\n",
    "Additional details can be removed to improve simulation functionality\n",
    "\n"
   ]
  },
  {
   "attachments": {},
   "cell_type": "markdown",
   "metadata": {},
   "source": [
    "4 Simulation Techniques:\n",
    "\n",
    "Procedure and iteration\n",
    "\n",
    "Flowcharts\n",
    "\n",
    "Conditionals\n",
    "\n",
    "Removing details; like accidents or weather"
   ]
  },
  {
   "attachments": {},
   "cell_type": "markdown",
   "metadata": {},
   "source": [
    "## Hacks"
   ]
  },
  {
   "attachments": {},
   "cell_type": "markdown",
   "metadata": {},
   "source": [
    "### MCs and explanation"
   ]
  },
  {
   "attachments": {},
   "cell_type": "markdown",
   "metadata": {},
   "source": [
    "Sorry! I don't know how to create a table."
   ]
  },
  {
   "attachments": {},
   "cell_type": "markdown",
   "metadata": {},
   "source": [
    "3. C \n",
    "\n",
    "A and B can use a pseudo-random number generator while simulating.\n",
    "\n",
    "4. B\n",
    "\n",
    "The other planes are least likely to be removed from the simulation as it needs to be repeated many times in the simulation and conditions may vary for each plane, more planes can make the simulation more rigorous.\n",
    "\n",
    "5. C\n",
    "\n",
    "Both experiments and simulations need to consider multiple situations. Simulation can save a lot of resources and time, but experiment can't. Some details can be deleted in simulation to improve the function of simulation.\n",
    "\n",
    "6. A\n",
    "\n",
    "In order to ensure the safety of customers, simulation is the best method for new car testing, if the experiment will lose a lot of resources and time.\n",
    "\n",
    "7. A\n",
    "\n",
    "The greenhouse effect will have a huge impact on the entire planet, so simulation is better than experiment.\n",
    "\n",
    "9. B\n",
    "\n",
    "In order to find the average score from the final exam, calculation is the best option, this teacher can calculate the average score by calculating."
   ]
  },
  {
   "attachments": {},
   "cell_type": "markdown",
   "metadata": {},
   "source": [
    "WHAT QUESTIONS\n",
    "3: What is not a reason to use a pseudo-random number generator when making a simulation?\n",
    "\n",
    "A: To mock imperfections from the real world\n",
    "\n",
    "B: To save resources\n",
    "\n",
    "C: To make the simulation more accurate\n",
    "\n",
    "4: Which of the following is the least likely factor to be removed from a flight(air traffic) simulation for functionality?\n",
    "\n",
    "A: Weather\n",
    "\n",
    "B: Other aircraft\n",
    "\n",
    "C: Imperfections on aircraft\n",
    "\n",
    "Experiment/Calculation or Simulation\n",
    "\n",
    "5: What is not (usually) a difference between a experiment and a simulation?\n",
    "\n",
    "A: Resources and time needed\n",
    "\n",
    "B: Factors considered\n",
    "\n",
    "C: Situation considered\n",
    "\n",
    "For each situation answer: Would it make more sense to use a simulation or a experiment/calculation?\n",
    "\n",
    "6: A car company needs to know how safe it's customers will be if it's new car crashes\n",
    "\n",
    "A: Simulation\n",
    "\n",
    "B: Experiment/calculation\n",
    "\n",
    "7: A environmental group wants an accurate guess on the impact the greenhouse effect will have on the environment\n",
    "\n",
    "A: Simulation\n",
    "\n",
    "B: Experiment/calculation\n",
    "\n",
    "9: A teacher want's to find the average score from a final\n",
    "\n",
    "A: Simulation\n",
    "\n",
    "B: Experiment/calculation"
   ]
  }
 ],
 "metadata": {
  "kernelspec": {
   "display_name": "base",
   "language": "python",
   "name": "python3"
  },
  "language_info": {
   "name": "python",
   "version": "3.9.12 (main, Apr  5 2022, 06:56:58) \n[GCC 7.5.0]"
  },
  "orig_nbformat": 4,
  "vscode": {
   "interpreter": {
    "hash": "364a94d119261e0775b1b30a60056d37c36efcef8468b46b1878966affcf428e"
   }
  }
 },
 "nbformat": 4,
 "nbformat_minor": 2
}
