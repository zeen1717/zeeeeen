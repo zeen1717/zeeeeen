{
 "cells": [
  {
   "cell_type": "markdown",
   "metadata": {},
   "source": [
    "# Hello to Badminton\n",
    "> Preparation and some skills to play badminton.\n",
    "- title: Hello to Badminton\n",
    "- toc: true\n",
    "- image: /home/zeen/vscode/zeeeeen/images/images.jpg\n",
    "- permalink: /badminton/hello\n",
    "- categories:[Badminton]\n"
   ]
  },
  {
   "cell_type": "markdown",
   "metadata": {},
   "source": [
    "## Definition\n",
    "Badminton is an indoor sport of hitting a small ball made of feathers and cork with a long-handled net racket across a net."
   ]
  },
  {
   "cell_type": "markdown",
   "metadata": {},
   "source": [
    "## Preparation!\n",
    "Here are the things we need:\n",
    "- shuttlecock(Bird/Birdie)\n",
    "- badminton racket\n",
    "- two persons\n",
    "- empty space"
   ]
  },
  {
   "cell_type": "markdown",
   "metadata": {},
   "source": [
    "## Steps\n",
    "1.To play badminton you first need to have the correct grip.\n",
    "First, use the thumb and index finger to pinch the two wide sides of the handle, the tiger's mouth is aligned with the side edge, and the other three fingers follow the trend and stick to the wide side of the index finger in turn to form a grip.\n",
    "\n",
    "![]({{ site.baseurl }}/images/download1.jpg) \n",
    "\n",
    "2.Always hit the center of the ball. As a novice, I suggest that you should hit the center of the round rubber ball head every time, this will improve your accuracy and success rate without missing the ball\n",
    "\n",
    "![]({{ site.baseurl }}/images/images2.jpg) \n",
    "\n",
    "3.Hit the ball with the highest point centered on you. Whether it's serving or catching, hitting the ball at the highest point is the best way to control where it falls, and don't wait until the ball is getting close to you before hitting it, otherwise the ball will lose momentum and height.\n",
    "\n",
    "![]({{ site.baseurl }}/images/1.jpg) \n",
    "\n",
    "4.Hit the ball to the bottom line. It takes precision and power to hit the ball to the back line, which can make your opponent have to back off and take a lot of effort to get your ball back. If you're not sure where to hit the next shot, and there's a lot of space in the backcourt, go there. In the beginning, aim the ball a little bit ahead of the baseline so you won't hit the ball if it goes beyond the baseline.\n",
    "\n",
    "![]({{ site.baseurl }}/images/2.jpg) \n",
    "\n",
    "5.Always return to the center of the field. No matter what the situation is, you should return to the center of the court after serving and receiving the ball, so that you can deal with emergencies at the first time, and prevent the opponent from using the distance difference to prevent us from receiving the ball and then winning.\n",
    "\n",
    "![]({{ site.baseurl }}/images/3.jpg) "
   ]
  },
  {
   "cell_type": "markdown",
   "metadata": {},
   "source": [
    "## Hacks\n",
    "Test running a Python file directly\n",
    "- From python directory run quiz.py in VS Code, this will show workflow of Input and Output in terminal\n",
    "\n",
    "Build your own Jupyter Notebook meeting these College Board and CTE competencies\n",
    "- Build your own quiz, including my questions and show outputs\n",
    "- Create both Markdown for description and Code for execution\n",
    "- Structure your Python code with comments \"#\" to complement Markdown descriptions\n",
    "\n",
    "Additional requirements\n",
    "- Build your quiz so that it captures the key Vocabulary from this Jupyter document\n",
    "- Calculate the percentage of your quiz\n",
    "- Review College Board Big Idea outline, see if you can reference locations in Markdown that support vocabulary\n",
    "\n",
    "Extra credit, Advanced\n",
    "- Do you see repeating pattern of code?  Try to implement solution to avoid the repeating pattern (hint: list and iteration)"
   ]
  }
 ],
 "metadata": {
  "kernelspec": {
   "display_name": "Python 3.9.12 ('base')",
   "language": "python",
   "name": "python3"
  },
  "language_info": {
   "codemirror_mode": {
    "name": "ipython",
    "version": 3
   },
   "file_extension": ".py",
   "mimetype": "text/x-python",
   "name": "python",
   "nbconvert_exporter": "python",
   "pygments_lexer": "ipython3",
   "version": "3.9.12"
  },
  "vscode": {
   "interpreter": {
    "hash": "364a94d119261e0775b1b30a60056d37c36efcef8468b46b1878966affcf428e"
   }
  }
 },
 "nbformat": 4,
 "nbformat_minor": 2
}
