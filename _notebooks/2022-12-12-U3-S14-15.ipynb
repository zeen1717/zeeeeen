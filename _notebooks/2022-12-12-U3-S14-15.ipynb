{
 "cells": [
  {
   "attachments": {},
   "cell_type": "markdown",
   "metadata": {},
   "source": [
    "# U3 S14-15\n",
    "- toc: true \n",
    "- comments: true"
   ]
  },
  {
   "attachments": {},
   "cell_type": "markdown",
   "metadata": {},
   "source": [
    "## Reflection\n",
    "\n",
    "When the process is too long to view, use the documentation to explain what the process does\n",
    "\n",
    "Randomization is everywhere in our lives\n",
    "\n",
    "RANDOM(a, b) generates and returns a random integer from a to b\n",
    "\n",
    "The random library must be imported to use it's function\n",
    "\n",
    "random.choice can pick a random element from a list\n",
    "\n",
    "random.shuffle can rearrange the elements of a list at random\n",
    "\n",
    "You can use the ladder function in randrange and not include the maximum value\n",
    "\n",
    "randint(start,stop) claims a random number from a range, randrange(start,stop,step)\n",
    "\n",
    "generates a random number in a range by setting increments\n"
   ]
  },
  {
   "attachments": {},
   "cell_type": "markdown",
   "metadata": {},
   "source": [
    "## Multiple Choice\n",
    "What does the random(a,b) function generate?\n",
    "\n",
    "A. A random integer from a to be exclusive\n",
    "\n",
    "==B. A random integer from a to b inclusive.==\n",
    "\n",
    "C. A random word from variable a to variable b exclusive.\n",
    "\n",
    "D. A random word from variable a to variable b inclusive.\n",
    "\n",
    "What is x, y, and z in random.randrange(x, y, z)?\n",
    "\n",
    "==A. x = start, y = stop, z = step==\n",
    "\n",
    "B. x = start, y = step, z = stop\n",
    "\n",
    "C. x = stop, y = start, z = step\n",
    "\n",
    "D. x = step, y = start, z = stop\n",
    "\n",
    "Which of the following is NOT part of the random library?\n",
    "\n",
    "==A. random.item==\n",
    "\n",
    "B. random.random\n",
    "\n",
    "C. random.shuffle\n",
    "\n",
    "D. random.randint\n"
   ]
  },
  {
   "attachments": {},
   "cell_type": "markdown",
   "metadata": {},
   "source": [
    "## Short Answer Question\n",
    "1. What is the advantage of using libraries?\n",
    "\n",
    "Using libraries and importing allows us to use the code inside to achieve our goals more quickly and easily. Libraries simplify complex processes and contain procedures used in creating novel programs.\n"
   ]
  },
  {
   "attachments": {},
   "cell_type": "markdown",
   "metadata": {},
   "source": [
    "2. Write a thorough documentation of the following code."
   ]
  },
  {
   "cell_type": "code",
   "execution_count": 2,
   "metadata": {},
   "outputs": [
    {
     "name": "stdout",
     "output_type": "stream",
     "text": [
      "Eric is going to buy the meal today!\n"
     ]
    }
   ],
   "source": [
    "import random \n",
    "\n",
    "names_string = input(\"Give me everybody's names, seperated by a comma.\")\n",
    "names = names_string.split(\",\")\n",
    "\n",
    "num_items = len(names)\n",
    "\n",
    "random_choice = random.randint(0, num_items - 1)\n",
    "\n",
    "person_who_will_pay = names[random_choice]\n",
    "\n",
    "print(f\"{person_who_will_pay} is going to buy the meal today!\")"
   ]
  },
  {
   "attachments": {},
   "cell_type": "markdown",
   "metadata": {},
   "source": [
    "Documentation: First import the random library to use the code inside the library, these codes allow us to eliminate the need to define complex code to use, and then import the user to use the names in the library, the names are separated by splits using commas, each name will be by the corresponding index, then use random.randint to randomly select an index and output the names."
   ]
  },
  {
   "attachments": {},
   "cell_type": "markdown",
   "metadata": {},
   "source": [
    "## Coding Challenges!\n",
    "\n",
    "REQUIRED: Create programs in python to complete the two task</p>\n",
    "\n",
    "1. Create a program to pick five random names from a list of at least 15 names\n"
   ]
  },
  {
   "cell_type": "code",
   "execution_count": 20,
   "metadata": {},
   "outputs": [
    {
     "name": "stdout",
     "output_type": "stream",
     "text": [
      "Ashley\n",
      "Petter\n",
      "RJ\n",
      "Alle\n",
      "Tim\n"
     ]
    }
   ],
   "source": [
    "import random # import random library\n",
    "\n",
    "nameList = [\"Eric\",\"Lily\",\"Jack\",\"Kerry\",\"RJ\",\"John\",\"Ashley\",\"Tony\",\"Scott\",\"Tim\",\"Petter\",\"Amy\",\"Potter\",\"Alle\",\"Golf\"] # create a nameList to be used\n",
    "\n",
    "# Print 5 random names from nameList\n",
    "i = 1\n",
    "while i <= 5:\n",
    "    randomNames = random.choice(nameList) # use random function from random library\n",
    "    print(randomNames)\n",
    "    i += 1\n",
    "    "
   ]
  },
  {
   "attachments": {},
   "cell_type": "markdown",
   "metadata": {},
   "source": [
    "2. Create a program to simulate a dice game where each player rolls two fair dice (6 sides); the player with the greater sum wins"
   ]
  },
  {
   "cell_type": "code",
   "execution_count": 35,
   "metadata": {},
   "outputs": [
    {
     "name": "stdout",
     "output_type": "stream",
     "text": [
      "PlayerA got 9\n",
      "PlayerB got 5\n",
      "playerA wins\n"
     ]
    }
   ],
   "source": [
    "import random\n",
    "\n",
    "def rollDice(): # define how to roll dices\n",
    "    firstRoll = random.randint(1,6)\n",
    "    secondRoll = random.randint(1,6)\n",
    "    score = firstRoll + secondRoll\n",
    "    return score\n",
    "\n",
    "# print their scores\n",
    "playerAscore = rollDice()\n",
    "print(\"PlayerA got\",playerAscore)\n",
    "\n",
    "playerBscore = rollDice()\n",
    "print(\"PlayerB got\",playerBscore)\n",
    "\n",
    "# compare scoreA with scoreB\n",
    "if playerAscore > playerBscore:\n",
    "    print(\"playerA wins\")\n",
    "if playerAscore < playerBscore:\n",
    "    print(\"playerB wins\")\n",
    "if playerAscore == playerBscore:\n",
    "    print(\"Both them tied with\",playerAscore)    \n"
   ]
  }
 ],
 "metadata": {
  "kernelspec": {
   "display_name": "base",
   "language": "python",
   "name": "python3"
  },
  "language_info": {
   "codemirror_mode": {
    "name": "ipython",
    "version": 3
   },
   "file_extension": ".py",
   "mimetype": "text/x-python",
   "name": "python",
   "nbconvert_exporter": "python",
   "pygments_lexer": "ipython3",
   "version": "3.9.12 (main, Apr  5 2022, 06:56:58) \n[GCC 7.5.0]"
  },
  "orig_nbformat": 4,
  "vscode": {
   "interpreter": {
    "hash": "364a94d119261e0775b1b30a60056d37c36efcef8468b46b1878966affcf428e"
   }
  }
 },
 "nbformat": 4,
 "nbformat_minor": 2
}
