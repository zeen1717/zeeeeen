{
 "cells": [
  {
   "attachments": {},
   "cell_type": "markdown",
   "metadata": {},
   "source": [
    "# U3 S14-15\n",
    "- toc: true \n",
    "- comments: true"
   ]
  },
  {
   "attachments": {},
   "cell_type": "markdown",
   "metadata": {},
   "source": [
    "## Reflection\n",
    "\n",
    "When the process is too long to view, use the documentation to explain what the process does\n",
    "\n",
    "Randomization is everywhere in our lives\n",
    "\n",
    "RANDOM(a, b) generates and returns a random integer from a to b\n",
    "\n",
    "The random library must be imported to use it's function\n",
    "\n",
    "random.choice can pick a random element from a list\n",
    "\n",
    "random.shuffle can rearrange the elements of a list at random\n",
    "\n",
    "You can use the ladder function in randrange and not include the maximum value\n",
    "\n",
    "randint(start,stop) claims a random number from a range, randrange(start,stop,step)\n",
    "\n",
    "generates a random number in a range by setting increments\n"
   ]
  },
  {
   "attachments": {},
   "cell_type": "markdown",
   "metadata": {},
   "source": [
    "## Multiple Choice\n",
    "What does the random(a,b) function generate?\n",
    "\n",
    "A. A random integer from a to be exclusive\n",
    "\n",
    "==B. A random integer from a to b inclusive.==\n",
    "\n",
    "C. A random word from variable a to variable b exclusive.\n",
    "\n",
    "D. A random word from variable a to variable b inclusive.\n",
    "\n",
    "What is x, y, and z in random.randrange(x, y, z)?\n",
    "\n",
    "==A. x = start, y = stop, z = step==\n",
    "\n",
    "B. x = start, y = step, z = stop\n",
    "\n",
    "C. x = stop, y = start, z = step\n",
    "\n",
    "D. x = step, y = start, z = stop\n",
    "\n",
    "Which of the following is NOT part of the random library?\n",
    "\n",
    "A. random.item\n",
    "\n",
    "==B. random.random==\n",
    "\n",
    "C. random.shuffle\n",
    "\n",
    "D. random.randint\n"
   ]
  },
  {
   "attachments": {},
   "cell_type": "markdown",
   "metadata": {},
   "source": [
    "## Short Answer Question\n",
    "1. What is the advantage of using libraries?\n",
    "\n",
    "Using libraries and importing allows us to use the code inside to achieve our goals more quickly and easily. Libraries simplify complex processes and contain procedures used in creating novel programs.\n"
   ]
  },
  {
   "attachments": {},
   "cell_type": "markdown",
   "metadata": {},
   "source": [
    "2. Write a thorough documentation of the following code."
   ]
  }
 ],
 "metadata": {
  "kernelspec": {
   "display_name": "base",
   "language": "python",
   "name": "python3"
  },
  "language_info": {
   "name": "python",
   "version": "3.9.12 (main, Apr  5 2022, 06:56:58) \n[GCC 7.5.0]"
  },
  "orig_nbformat": 4,
  "vscode": {
   "interpreter": {
    "hash": "364a94d119261e0775b1b30a60056d37c36efcef8468b46b1878966affcf428e"
   }
  }
 },
 "nbformat": 4,
 "nbformat_minor": 2
}
