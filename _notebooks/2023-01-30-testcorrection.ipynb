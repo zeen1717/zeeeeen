{
 "cells": [
  {
   "attachments": {},
   "cell_type": "markdown",
   "metadata": {},
   "source": [
    "# Test Correction\n",
    "- toc: true\n",
    "- comment: true"
   ]
  },
  {
   "attachments": {},
   "cell_type": "markdown",
   "metadata": {},
   "source": [
    "## Questions"
   ]
  },
  {
   "attachments": {},
   "cell_type": "markdown",
   "metadata": {},
   "source": [
    "![](1 (1).png)\n",
    "See the question by mistake...It should be x = 3, y = 2, z = 1."
   ]
  },
  {
   "attachments": {},
   "cell_type": "markdown",
   "metadata": {},
   "source": [
    "![](1 (2).png)\n",
    "Moving the statement in line 5 so that it appears between lines 2 and 3 can make it work."
   ]
  },
  {
   "attachments": {},
   "cell_type": "markdown",
   "metadata": {},
   "source": [
    "![](1 (3).png)\n",
    "If borrows equals 7 and returns equals 7, the laptop would be considered not currently borrowed, the quotient of borrows and returns would be 1, which is not greater than 1. The correct one is \"The difference between borrows and returns is zero\"."
   ]
  },
  {
   "attachments": {},
   "cell_type": "markdown",
   "metadata": {},
   "source": [
    "![](1 (4).png)\n",
    "I should seclect two answers instead of only one."
   ]
  },
  {
   "attachments": {},
   "cell_type": "markdown",
   "metadata": {},
   "source": [
    "![](1 (5).png)\n",
    "Both Algorithm A and Algorithm B always calculate the correct average. They both are correct."
   ]
  },
  {
   "attachments": {},
   "cell_type": "markdown",
   "metadata": {},
   "source": [
    "![](2 (1).png)\n",
    "In program I, the value of i starts at 1 and finishes at n, so that result stores the sum of 1 + 2 + 3 + ... + n. C is the correct answer."
   ]
  },
  {
   "attachments": {},
   "cell_type": "markdown",
   "metadata": {},
   "source": [
    "![](2 (2).png)\n",
    "10 is closest to the maximum number of list elements that will be examined.\n"
   ]
  },
  {
   "attachments": {},
   "cell_type": "markdown",
   "metadata": {},
   "source": [
    "![](2 (3).png)\n",
    "L letters is represented by the hexadecimal (base 16) number 56."
   ]
  }
 ],
 "metadata": {
  "kernelspec": {
   "display_name": "base",
   "language": "python",
   "name": "python3"
  },
  "language_info": {
   "name": "python",
   "version": "3.9.12"
  },
  "orig_nbformat": 4,
  "vscode": {
   "interpreter": {
    "hash": "364a94d119261e0775b1b30a60056d37c36efcef8468b46b1878966affcf428e"
   }
  }
 },
 "nbformat": 4,
 "nbformat_minor": 2
}
