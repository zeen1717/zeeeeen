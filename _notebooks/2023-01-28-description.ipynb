{
 "cells": [
  {
   "attachments": {},
   "cell_type": "markdown",
   "metadata": {},
   "source": [
    "# Description\n",
    "- toc: ture\n",
    "- comment: ture"
   ]
  },
  {
   "attachments": {},
   "cell_type": "markdown",
   "metadata": {},
   "source": [
    "## First row:\n",
    "Users input their age, skin type, allergies, etc., and output personalized suggestions based on skin conditions. This is to get skin care solutions for people's skin types by doing quiz.\n",
    "\n",
    "## Second row:\n",
    "Two different code snippets will be provided, the first showing that the data is stored in the recognized list, and the second showing that it is displayed in the data accessed from the recognized list, and the name of the list is identified as SkinProductTypes, which will indicate that it will be stored In a list, and the data in this list represent the type of skin care products\n",
    "\n",
    "## Third row:\n",
    "The code that will manage the complexity of the program will use lists, where the types of skin care products are stored. And without a list, I need to have multiple variables for each skin care product. This list brings together all the skin care products, so it is easier to get information about these skin care products, and adding other skin care products can be directly added to the list without creating new variables.\n",
    "\n",
    "## Fourth row:\n",
    "I will show the program to be developed and have at least one parameter that affects the function of the process, and I will buy a book that identifies the process and role and how it can help the program\n",
    "\n",
    "## Fifth row:\n",
    "The algorithm I developed will use sorting, selection and iteration and explain how it works\n",
    "\n",
    "## Sixth row:\n",
    "I will describe two calls to the selected procedure, each passing different parameters, and the conditions tested and corresponding different results for each call to the procedure."
   ]
  }
 ],
 "metadata": {
  "language_info": {
   "name": "python"
  },
  "orig_nbformat": 4
 },
 "nbformat": 4,
 "nbformat_minor": 2
}
