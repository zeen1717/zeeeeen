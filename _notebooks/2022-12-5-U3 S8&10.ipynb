{
 "cells": [
  {
   "cell_type": "markdown",
   "metadata": {},
   "source": [
    "# U3 S8 and S10\n",
    "- toc: true \n",
    "- comments: true"
   ]
  },
  {
   "cell_type": "markdown",
   "metadata": {},
   "source": [
    "## Notes\n",
    "1. For loop repeats a function a certain number of times\n",
    "2. The while loop is used to repeat a piece of code a certain number of times until the condition is met.\n",
    "3. The while loop is very similar to the if condition, except that while is executed continuously until it is no longer true, while if is executed only once.\n",
    "4. List index starts at 0 in the list\n",
    "5. append adds an element at the end, remove removes it at the index, and pop removes the last item."
   ]
  },
  {
   "cell_type": "markdown",
   "metadata": {},
   "source": [
    "## Exercise#1\n",
    "Task\n",
    "Reverse a list utilizing features of lists and iteration\n",
    "Hint: Use two parameters with the range function"
   ]
  },
  {
   "cell_type": "code",
   "execution_count": 18,
   "metadata": {},
   "outputs": [
    {
     "name": "stdout",
     "output_type": "stream",
     "text": [
      "5\n",
      "4\n",
      "3\n",
      "2\n",
      "1\n"
     ]
    }
   ],
   "source": [
    "list = [1, 2, 3, 4, 5] # Print this in reverse order\n",
    "for number in reversed(list) :\n",
    "    print(number)"
   ]
  },
  {
   "cell_type": "markdown",
   "metadata": {},
   "source": [
    "## Exercise #2\n",
    "Task\n",
    "Similar to insertion sort, this algorithm takes an unsorted array and returns a sorted array\n",
    "Unlike insertion sort where you iterate through the each element and move the smaller elements to the front, this algorithm starts at the beginning and swaps the position of every element in the array\n",
    "\n",
    "Expected Output:\n",
    "The sorted array from 1-10"
   ]
  },
  {
   "cell_type": "code",
   "execution_count": 32,
   "metadata": {},
   "outputs": [
    {
     "name": "stdout",
     "output_type": "stream",
     "text": [
      "[0, 1, 2, 3, 4, 5, 6, 7, 8, 9]\n"
     ]
    }
   ],
   "source": [
    "list = [9, 8, 4, 3, 5, 2, 6, 7, 1, 0] # Sort this array using bubble sort\n",
    "numbers = list\n",
    "numbers.sort()\n",
    "print(numbers)"
   ]
  },
  {
   "cell_type": "markdown",
   "metadata": {},
   "source": [
    "![]({{ site.baseurl }}/images/S8&10 image/屏幕截图_20221206_133555.png)\n",
    "\n",
    "A while loop loops over an interval until a condition is met, a for loop iterates over an iterable object and lasts a certain amount of time.\n",
    "\n",
    "\n",
    "![]({{ site.baseurl }}/images/S8&10 image/屏幕截图_20221206_133604.png)\n",
    "\n",
    "Use a for loop to iterate through the list until the user inputs quit\n"
   ]
  }
 ],
 "metadata": {
  "kernelspec": {
   "display_name": "Python 3.9.12 ('base')",
   "language": "python",
   "name": "python3"
  },
  "language_info": {
   "codemirror_mode": {
    "name": "ipython",
    "version": 3
   },
   "file_extension": ".py",
   "mimetype": "text/x-python",
   "name": "python",
   "nbconvert_exporter": "python",
   "pygments_lexer": "ipython3",
   "version": "3.9.12"
  },
  "orig_nbformat": 4,
  "vscode": {
   "interpreter": {
    "hash": "364a94d119261e0775b1b30a60056d37c36efcef8468b46b1878966affcf428e"
   }
  }
 },
 "nbformat": 4,
 "nbformat_minor": 2
}
