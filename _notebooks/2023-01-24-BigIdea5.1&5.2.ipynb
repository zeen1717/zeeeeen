{
 "cells": [
  {
   "attachments": {},
   "cell_type": "markdown",
   "metadata": {},
   "source": [
    "## 5.1 Reflection\n",
    "1. Come up with three of your own Beneficial and corresponding Harmful Effects of Computing\n",
    "\n",
    "Benificial:It can be used in life to make people's life more convenient\n",
    "It can be used for scientific and technological development, allowing society to progress\n",
    "It can enable people to innovate their minds and broaden their horizons\n",
    "\n",
    "Harmful:Some people will use it to do the work they are supposed to do, or they will use it to cheat, etc.\n",
    "Life becomes more convenient will make people become more lazy and slow-minded.\n",
    "The higher the level of technological innovation, the more it may be out of human control\n",
    "\n",
    "2. Talk about dopamine issues above. Real? Parent conspiracy? Anything that is impacting your personal study and success in High School?"
   ]
  },
  {
   "attachments": {},
   "cell_type": "markdown",
   "metadata": {},
   "source": [
    "## 5.2 Reflection\n",
    "1. How does someone empower themself in a digital world?\n",
    "2. How does someone that is empowered help someone that is not empowered? Describe something you could do at Del Norte HS.\n",
    "Is paper or red tape blocking digital empowerment? Are there such barriers at Del Norte? Elsewhere?"
   ]
  }
 ],
 "metadata": {
  "language_info": {
   "name": "python"
  },
  "orig_nbformat": 4
 },
 "nbformat": 4,
 "nbformat_minor": 2
}
