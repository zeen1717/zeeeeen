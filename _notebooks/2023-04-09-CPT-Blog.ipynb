{
 "cells": [
  {
   "attachments": {},
   "cell_type": "markdown",
   "metadata": {},
   "source": [
    "# A Blog\n",
    "- toc: true\n",
    "- comment: true"
   ]
  },
  {
   "attachments": {},
   "cell_type": "markdown",
   "metadata": {},
   "source": [
    "## Blog Discussion\n",
    "- Procedural Abstraction, discussion on code and abstraction techniques used: Frontend/Backend, Functions, Classes, etc\n",
    "![](image/1.png)\n",
    "![](image/2.png)\n",
    "![](image/3.png)\n",
    "\n",
    "I developed a procedure called “run_test”, so it can iterate through the list and create an input box for each question so that the user can input the letter to get a score, and the score will match with the output which is printed. And I used “class Question” to define the attribute of questions.\n",
    "\n",
    "- Data Abstraction, discussion on data used and data structures to support project: JSON, Dictionaries, Lists, and/or Database Tables.\n",
    "\n",
    "![](image/4.png)\n",
    "![](image/5.png)\n",
    "\n",
    "The specific list I use is “questions_prompts” , and it is used in the “questions” in order to iterate by sequence, the name of the variable representing the list being used is “questions”\n",
    "The data that contained in this list represent the questions about your skin situation and how often it happens\n",
    "\n",
    "- Usage of Control Structures, ie Iteration and Conditional Statements. Areas where you use lists and interation in Frontend Display. Areas were you decide and execulte different paths of code, for instance Create vs Read vs Update vs Delete. Also, show a function where a different parameter or condition causes a differen result.\n",
    "\n",
    "The questions about skin type are all put in the list “quesitons_prompts”, and “run_test” function which is a procedure I developed can call the list to iterate through this list and create a input box for each question so that the user can input the letter to get a score, and it will print what their skin types are according to the score. But if user entered the wrong letters, it will print that “ Your letter was entered incorrectly, please enter it again.” ,because I used the “while true” statement, whenever the letter entered is true, it will go to the next question, otherwise, it will ask user to do the same question again.\n",
    "\n",
    "\n",
    "\n",
    "\n"
   ]
  },
  {
   "attachments": {},
   "cell_type": "markdown",
   "metadata": {},
   "source": [
    "## Video\n",
    "[Video](https://github.com/zeen1717/zeeeeen/blob/master/Video.md)"
   ]
  }
 ],
 "metadata": {
  "language_info": {
   "name": "python"
  },
  "orig_nbformat": 4
 },
 "nbformat": 4,
 "nbformat_minor": 2
}
