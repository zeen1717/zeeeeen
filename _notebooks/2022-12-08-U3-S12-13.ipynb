{
 "cells": [
  {
   "attachments": {},
   "cell_type": "markdown",
   "metadata": {},
   "source": [
    "## U3 S12-13 Homework\n",
    "- toc: true \n",
    "- comments: true"
   ]
  },
  {
   "attachments": {},
   "cell_type": "markdown",
   "metadata": {},
   "source": [
    "# Notes\n",
    "- Procedures can perform certain operations but do not return values\n",
    "- Procedures can be used to convert values\n",
    "- The name of the procedure must be descriptive\n",
    "- We can modularize procedures by dividing complex procedures into several simple procedures\n"
   ]
  },
  {
   "attachments": {},
   "cell_type": "markdown",
   "metadata": {},
   "source": [
    "Problem 1: This problem involves parameters\n",
    "Qais is writing code to calculate formulas from his math class. He's currently working on a procedure to calculate average speed, based on this formula:\n",
    "\n",
    "Average speed=\n",
    "\n",
    "Total Time/Total Distance​\n",
    "\n",
    "Highlight which of these is the best procedure for calculating and displaying average speed.\n",
    "PROCEDURE calcAvgSpeed (distance, time) { DISPLAY (distance/time) }\n",
    "PROCEDURE calcAvgSpeed (distance) { DISPLAY (distance/time) }\n",
    "PROCEDURE calcAvgSpeed (distance, time) { DISPLAY (time/distance) }\n",
    "Problem 2: Procedures with return values\n",
    "James Hunter is looking through his classmate's program and sees a procedure called heightenEmotions: PROCEDURE heightenEmotions(myEmotion)\n",
    "\n",
    "{ moreEnergy ← CONCAT(myEmotion, \"!!!\")\n",
    "\n",
    "moreVolume ← UPPER(moreEnergy)\n",
    "\n",
    "RETURN moreVolume }\n",
    "\n",
    "That procedure manipulates strings using two built-in procedures, CONCAT for concatenating two strings together, and UPPER for converting a string to uppercase.\n",
    "\n",
    "James Hunter then sees this line of code:\n",
    "\n",
    "heightenEmotions(\"im mad\")\n",
    "\n",
    "After that line of code runs, will nothing be displayed?\n",
    "\n",
    "True\n",
    "\n",
    "False\n",
    "\n",
    "Problem 3: Procedures with return values\n",
    "Bubz is writing a program to calculate the carbon footprint of his activities. The procedure calcFlightFootprint calculates the pounds of carbon dioxide produced per passenger in a flight that covers a given number of miles and seats a given number of passengers.\n",
    "\n",
    "PROCEDURE calcFlightFootprint(numMiles, numPassengers) { CO2_PER_MILE ← 53.29\n",
    "\n",
    "carbonPerFlight ← numMiles * CO2_PER_MILE\n",
    "\n",
    "carbonPerPassenger ← carbonPerFlight / numPassengers\n",
    "\n",
    "RETURN carbonPerPassenger\n",
    "\n",
    "}\n",
    "\n",
    "Bubz wants to use that procedure to calculate the total footprint for his two upcoming flights: LA to NY: 2,451 miles and 118 passengers NY to London: 3,442 miles and 252 passengers\n",
    "\n",
    "Which of these code snippets successfully calculates and stores her total footprint? Highlight 2 answers.\n",
    "\n",
    "totalFootprint ← calcFlightFootprint(2451, 118) + calcFlightFootprint(3442, 252)\n",
    "\n",
    "totalFootprint ← calcFlightFootprint(2451, 118 + 3442, 252)\n",
    "\n",
    "totalFootprint ← calcFlightFootprint((2451, 118) + (3442, 252))\n",
    "\n",
    "4. laNyCarbon ← calcFlightFootprint(2451, 118) nyLondonCarbon ← calcFlightFootprint(3442, 252) totalFootprint ← laNyCarbon + nyLondonCarbon\n",
    "\n",
    "</div> </div> </div> </div>"
   ]
  }
 ],
 "metadata": {
  "kernelspec": {
   "display_name": "base",
   "language": "python",
   "name": "python3"
  },
  "language_info": {
   "name": "python",
   "version": "3.9.12 (main, Apr  5 2022, 06:56:58) \n[GCC 7.5.0]"
  },
  "orig_nbformat": 4,
  "vscode": {
   "interpreter": {
    "hash": "364a94d119261e0775b1b30a60056d37c36efcef8468b46b1878966affcf428e"
   }
  }
 },
 "nbformat": 4,
 "nbformat_minor": 2
}
