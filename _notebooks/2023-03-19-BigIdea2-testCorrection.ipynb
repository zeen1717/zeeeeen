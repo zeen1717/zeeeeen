{
 "cells": [
  {
   "attachments": {},
   "cell_type": "markdown",
   "metadata": {},
   "source": [
    "# BIgIdea 2 Test Correction\n",
    "- toc: true\n",
    "- comment : true\n"
   ]
  },
  {
   "attachments": {},
   "cell_type": "markdown",
   "metadata": {},
   "source": [
    "## Test Correction\n",
    "![](images/%E5%B1%8F%E5%B9%95%E6%88%AA%E5%9B%BE%202023-03-21%20131110.png)\n",
    "Q9: Different users may abbreviate city names in different ways, so the student needs to clean the data to make it uniform before processing the data.\n",
    "![](images/%E5%B1%8F%E5%B9%95%E6%88%AA%E5%9B%BE%202023-03-21%20131543.png)\n",
    "Q11: The total dollar amount of all tickets sold should be divided by the average ticket price to get the headcount\n",
    "![](images/%E5%B1%8F%E5%B9%95%E6%88%AA%E5%9B%BE%202023-03-21%20131825.png)\n",
    "Q13: The average hours are based on speed, date and time, which are all part of the metadata, while the number of bicycles is checked using image recognition software, images are data, no metadata is required\n",
    "![](images/%E5%B1%8F%E5%B9%95%E6%88%AA%E5%9B%BE%202023-03-21%20132022.png)\n",
    "![](images/%E5%B1%8F%E5%B9%95%E6%88%AA%E5%9B%BE%202023-03-21%20132030.png)\n",
    "Q21: Year filtering deletes unknown years, photographer filtering deletes unknown photographers, and year sorting can be sorted from the oldest to the most recent."
   ]
  }
 ],
 "metadata": {
  "language_info": {
   "name": "python"
  },
  "orig_nbformat": 4
 },
 "nbformat": 4,
 "nbformat_minor": 2
}
