{
 "cells": [
  {
   "cell_type": "markdown",
   "metadata": {},
   "source": [
    "# U3 S9 and S11\n",
    "- toc: true \n",
    "- comments: true"
   ]
  },
  {
   "cell_type": "markdown",
   "metadata": {},
   "source": [
    "## Notes\n",
    "- If clauses are separated or have one if clause inside another if clause is possible to be different\n",
    "- Boolean values can be expressed in different ways to express the same result\n"
   ]
  }
 ],
 "metadata": {
  "kernelspec": {
   "display_name": "Python 3.9.12 ('base')",
   "language": "python",
   "name": "python3"
  },
  "language_info": {
   "name": "python",
   "version": "3.9.12"
  },
  "orig_nbformat": 4,
  "vscode": {
   "interpreter": {
    "hash": "364a94d119261e0775b1b30a60056d37c36efcef8468b46b1878966affcf428e"
   }
  }
 },
 "nbformat": 4,
 "nbformat_minor": 2
}
