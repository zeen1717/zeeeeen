{
 "cells": [
  {
   "cell_type": "markdown",
   "metadata": {},
   "source": [
    "# U3 S9 and S11\n",
    "- toc: true \n",
    "- comments: true"
   ]
  },
  {
   "cell_type": "markdown",
   "metadata": {},
   "source": [
    "## Notes\n",
    "- If clauses are separated or have one if clause inside another if clause is possible to be different\n",
    "- Boolean values can be expressed in different ways to express the same result\n"
   ]
  },
  {
   "cell_type": "markdown",
   "metadata": {},
   "source": [
    "# Hacks\n",
    "1. Make a binary search tree of different the list [1,2,3,4,6,9,11,69]\n",
    "\n",
    "2. Explain thorughly how to find the number 69 in the list above (use key words)\n",
    "\n",
    "3. Make a diagram explaining how you found the list (not tree, include equation)\n",
    "\n",
    "4. Put this list of strings in a order that can be used for binary search [“store”,”Market”,”Walmart”,Target”,”Ralphs”]\n",
    "\n",
    "5. Explain why Binary Search is more efficient than Sequential Search\n",
    "\n",
    "6. [64,36,16,11,9] Explain which number you are finding, how many check it would take, and make a binary search tree"
   ]
  }
 ],
 "metadata": {
  "kernelspec": {
   "display_name": "Python 3.9.12 ('base')",
   "language": "python",
   "name": "python3"
  },
  "language_info": {
   "name": "python",
   "version": "3.9.12"
  },
  "orig_nbformat": 4,
  "vscode": {
   "interpreter": {
    "hash": "364a94d119261e0775b1b30a60056d37c36efcef8468b46b1878966affcf428e"
   }
  }
 },
 "nbformat": 4,
 "nbformat_minor": 2
}
