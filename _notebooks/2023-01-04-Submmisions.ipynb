{
 "cells": [
  {
   "attachments": {},
   "cell_type": "markdown",
   "metadata": {},
   "source": [
    "# Submmisions\n",
    "- toc: true\n",
    "- comments: true"
   ]
  },
  {
   "attachments": {},
   "cell_type": "markdown",
   "metadata": {},
   "source": [
    "## Submmision 1"
   ]
  },
  {
   "attachments": {},
   "cell_type": "markdown",
   "metadata": {},
   "source": [
    "**Reporting Category**|**Student1**|**College Borad**|**Comments**\n",
    ":-----:|:-----:|:-----:|:-----:\n",
    "Program Purpose and function|1 |0 | This gets the score, contains the inputs and outputs, the program functions, the video shows the program running, demonstrates the functional inputs and outputs, and describes the overall purpose of the program. But in fact, after comparing, the purpose of this program is not clear, only the function of the program is described, the main program is not specific\n",
    "Data Abstraction|1 |1 | This gains points because it contains two program snippets and it is very clear that the element is not a single-element list, the data is stored in the sideindex\n",
    "Managing Complexity|1 | 1| Shows the complexity that is used to manage the program by putting all the categories in one place, the written response has named the selected list, but the University Council believes that the list is not necessary for the program and does not manage the complexity, the code is inefficient and unnecessary.\n",
    "Procedural Abstraction| 1| 1| Contains two program code segments showing the procedure and its application, with a description of the procedure, and a description of its contribution to the overall function of the program\n",
    "Algorithm Implementation| 1|1 | The code snippet shows sorting, selection and iteration, with detailed step-by-step explanations of how the algorithm works\n",
    "Testing|1| 1| Two calls are shown, and the plan is consistent, with each call passing different parameters and a different code segment executed in the algorithm, describing the conditions of each call"
   ]
  },
  {
   "attachments": {},
   "cell_type": "markdown",
   "metadata": {},
   "source": [
    "## Submmision 2"
   ]
  },
  {
   "attachments": {},
   "cell_type": "markdown",
   "metadata": {},
   "source": [
    "**Reporting Category**|**Student2**|**College Borad**|**Comments**\n",
    ":-----:|:-----:|:-----:|:-----:\n",
    "Program Purpose and function|1 |1 | The purpose is clearly described, the function of the program, and the video has a demonstration showing the program in action.\n",
    "Data Abstraction|1| 1| All the requirements of the second line are perfectly met, showing two program code segments\n",
    "Managing Complexity|1 |1 | It demonstrates how to manage complexity and discusses\n",
    "Procedural Abstraction|0 | 1| Didn't get a score because there is no return type or parameter here, but the University Council score here is 1 because I misread it\n",
    "Algorithm Implementation|1 |1 | Includes sorting, selection and iteration, describing in detail how the algorithm works and the steps\n",
    "Testing| 1| 1| The procedure contains two calls, and both are very detailed, satisfying all the requirements of the sixth line"
   ]
  }
 ],
 "metadata": {
  "kernelspec": {
   "display_name": "base",
   "language": "python",
   "name": "python3"
  },
  "language_info": {
   "name": "python",
   "version": "3.9.12 (main, Apr  5 2022, 06:56:58) \n[GCC 7.5.0]"
  },
  "orig_nbformat": 4,
  "vscode": {
   "interpreter": {
    "hash": "364a94d119261e0775b1b30a60056d37c36efcef8468b46b1878966affcf428e"
   }
  }
 },
 "nbformat": 4,
 "nbformat_minor": 2
}
