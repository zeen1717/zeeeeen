{
 "cells": [
  {
   "attachments": {},
   "cell_type": "markdown",
   "metadata": {},
   "source": [
    "# Undecidable problem\n",
    "- toc: true\n",
    "- comments: true\n",
    "- categories: [Week-16,Big-Idea-3]"
   ]
  },
  {
   "attachments": {},
   "cell_type": "markdown",
   "metadata": {},
   "source": [
    "## Essential knowledge\n",
    "- An decidable problem is a decision problem is a decision problem for which an algorithm can be written to produce a correct output for all inputs\n",
    "- The undecidable problem is a decision problem that proves impossible to construct an algorithm that always leads to the correct yes-or-no answer\n",
    "- Undecidable problems may have some instances of algorithmic solutions, but there are no algorithmic solutions that can solve all instances of the problem\n"
   ]
  },
  {
   "attachments": {},
   "cell_type": "markdown",
   "metadata": {},
   "source": [
    "## Decidable Problem\n",
    "EX:"
   ]
  },
  {
   "attachments": {},
   "cell_type": "markdown",
   "metadata": {},
   "source": [
    "![](4.png)"
   ]
  },
  {
   "attachments": {},
   "cell_type": "markdown",
   "metadata": {},
   "source": [
    "This procedure indicates whether a number is divisible by 3\n",
    "\n",
    "If the number is 9, 9 divided by 3 equals 3 and the remainder is 0, return true.\n",
    "\n",
    "If the number is 10, 10 divided by 3 equals 3, with a remainder of 1, return false\n",
    "\n",
    "So we know that this algorithm will provide the correct output every time.\n"
   ]
  },
  {
   "attachments": {},
   "cell_type": "markdown",
   "metadata": {},
   "source": [
    "## Undecidable Problem\n"
   ]
  },
  {
   "attachments": {},
   "cell_type": "markdown",
   "metadata": {},
   "source": [
    "### Halting Problem\n",
    "It asks, given a computer program and an input, will the program terminate or will it run forever?\n",
    "\n",
    "The Halting problem is probably the best known problem that has proven to be undecidable; that is, no program can solve the Halting problem for sufficiently general computer programs.\n",
    "\n",
    "EX(1):\n"
   ]
  },
  {
   "cell_type": "code",
   "execution_count": 9,
   "metadata": {},
   "outputs": [],
   "source": [
    "x = input()\n",
    "while x:\n",
    "    pass"
   ]
  },
  {
   "attachments": {},
   "cell_type": "markdown",
   "metadata": {},
   "source": [
    "It reads the input, and if it's not empty, the procedure loops forever.\n",
    "\n"
   ]
  },
  {
   "attachments": {},
   "cell_type": "markdown",
   "metadata": {},
   "source": [
    "EX(2):"
   ]
  },
  {
   "attachments": {},
   "cell_type": "markdown",
   "metadata": {},
   "source": [
    "Suppose there is a program B"
   ]
  },
  {
   "cell_type": "code",
   "execution_count": null,
   "metadata": {},
   "outputs": [],
   "source": [
    "bool B (input)\n",
    "{\n",
    "    if (A (input, input))\n",
    "    {\n",
    "        while (1)\n",
    "        return true\n",
    "    }\n",
    "    else\n",
    "        return False\n",
    "}\n"
   ]
  },
  {
   "attachments": {},
   "cell_type": "markdown",
   "metadata": {},
   "source": [
    "A(B,B) can also determine whether B halt, because A can calculate whether any procedure halt\n",
    "\n",
    "1. Suppose B can halt, then A returns ture, then B cannot halt, contradicting\n",
    "2. Suppose B can't halt, then A returns false, B can halt, contradiction\n",
    "\n",
    "So the assumption is not valid"
   ]
  },
  {
   "attachments": {},
   "cell_type": "markdown",
   "metadata": {},
   "source": [
    "### This is a theoretical example."
   ]
  },
  {
   "attachments": {},
   "cell_type": "markdown",
   "metadata": {},
   "source": [
    "Barber Paradox:\n",
    "There was a barber in a small town on Crick Island, and one day he made a rule that he would only cut the hair of people who did not cut their own hair. The barber's rule seemed to make sense, since people cut their own hair, so I do not have to \"do more than that\", I will give this person a haircut. Initially, there was nothing wrong with this rule, but later, as the barber's own hair grew longer and longer, he found himself in a dilemma: should he give himself a haircut?\n",
    "\n",
    "Answer: If he cuts his own hair, then he becomes the \"person who cuts his own hair\" in his regulations, then he should not cut his own hair; if he does not cut his own hair, then he is not the one in his regulations A person who cuts his own hair\", then he should cut his own hair. Combining the above two situations, \"he cuts his own hair\" if and only if \"he does not cut his own hair\", which becomes a paradox.\n"
   ]
  },
  {
   "attachments": {},
   "cell_type": "markdown",
   "metadata": {},
   "source": [
    "## Homework"
   ]
  },
  {
   "attachments": {},
   "cell_type": "markdown",
   "metadata": {},
   "source": [
    "1. God is omnipotent, so can God create a stone that he cannot lift? Why or why not?"
   ]
  },
  {
   "attachments": {},
   "cell_type": "markdown",
   "metadata": {},
   "source": [
    "2. Write a simple theoretical example of Halting problem"
   ]
  }
 ],
 "metadata": {
  "kernelspec": {
   "display_name": "base",
   "language": "python",
   "name": "python3"
  },
  "language_info": {
   "codemirror_mode": {
    "name": "ipython",
    "version": 3
   },
   "file_extension": ".py",
   "mimetype": "text/x-python",
   "name": "python",
   "nbconvert_exporter": "python",
   "pygments_lexer": "ipython3",
   "version": "3.9.12"
  },
  "orig_nbformat": 4,
  "vscode": {
   "interpreter": {
    "hash": "364a94d119261e0775b1b30a60056d37c36efcef8468b46b1878966affcf428e"
   }
  }
 },
 "nbformat": 4,
 "nbformat_minor": 2
}
