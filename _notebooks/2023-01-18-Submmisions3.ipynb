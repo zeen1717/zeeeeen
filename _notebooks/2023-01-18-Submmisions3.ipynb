{
 "cells": [
  {
   "attachments": {},
   "cell_type": "markdown",
   "metadata": {},
   "source": [
    "# Submmisions 3\n",
    "- toc: true\n",
    "- comments: true"
   ]
  },
  {
   "attachments": {},
   "cell_type": "markdown",
   "metadata": {},
   "source": [
    "## Submmision 1"
   ]
  },
  {
   "attachments": {},
   "cell_type": "markdown",
   "metadata": {},
   "source": [
    "**Reporting Category**|**Student**|**College Borad**|**Comments**\n",
    ":-----:|:-----:|:-----:|:-----:\n",
    "Program Purpose and function| 1| 1| The video demonstrates input and output, the operation of the program and its functions, and is about a game of rock-paper-scissors. In the written response, describe the general purpose, which can be entertainment or decision making, and describe the function of the program demonstrated in the video, describing the input and output of the program\n",
    "Data Abstraction|1 | 0| This written response consists of two clearly identifiable program code segments and also describes what the data represented by the list contained in the list are potential options that the computer can choose as its input\n",
    "Managing Complexity| 0| 0| The response includes a program snippet but does not show a list that can be used to manage program complexity, college borad states that the response provides an explanation of how to write the program in different ways without a list\n",
    "Procedural Abstraction| 1| 0| The written response included two program code segments, and showed that the developed program was called, and described the role and benefits of the identification process, but the college board said that it did not specify how the program contributed to the overall program, only that it \"allowed Program executed smoothly\n",
    "Algorithm Implementation|1 | 1| The written response includes program code snippets for the algorithm developed by the student, sorting, selecting, and iterating, and details how to identify the details of the algorithm so that others can create it\n",
    "Testing| 1| 1| Describes the two invocations of the selected procedure that resulted in different code segments being executed, resulting in different results, describes the entity tested by each invocation of the procedure and identifies the result of each invocation"
   ]
  },
  {
   "attachments": {},
   "cell_type": "markdown",
   "metadata": {},
   "source": [
    "## Submmision 2"
   ]
  },
  {
   "attachments": {},
   "cell_type": "markdown",
   "metadata": {},
   "source": [
    "**Reporting Category**|**Student**|**College Borad**|**Comments**\n",
    ":-----:|:-----:|:-----:|:-----:\n",
    "Program Purpose and function| 1|1 | The video demonstrates input and output, the operation of the program and its functions, describes the general purpose of the program, helps users recognize new words and expand their vocabulary, and describes the function of the program demonstrated in the video, describes the input and output of the program\n",
    "Data Abstraction| 1| 1| The written response consists of two clearly identifiable program code segments and also describes the data represented by the list contained in the list\n",
    "Managing Complexity| 1| 1| The response includes a program snippet and shows how lists can be used to manage program complexity and explains what happens if the list is not used\n",
    "Procedural Abstraction| 1| 1| Included in the written response are two program code snippets, the student-developed program guessWords, which is shown calling this program, and describes the role and contribution of the recognition process\n",
    "Algorithm Implementation| 1| 1| The written response includes program code snippets for the student-developed algorithm guessWords, sorting, selecting, and iterating, and details how to identify details of the algorithm so that others can create it\n",
    "Testing| 1| 1| Describes two different calls to the selected procedure, resulting in different code segment executions, describes the conditions tested by each call to the procedure, and identifies the result of each call, satisfying the condition"
   ]
  },
  {
   "attachments": {},
   "cell_type": "markdown",
   "metadata": {},
   "source": [
    "## Submmision 3"
   ]
  },
  {
   "attachments": {},
   "cell_type": "markdown",
   "metadata": {},
   "source": [
    "**Reporting Category**|**Student**|**College Borad**|**Comments**\n",
    ":-----:|:-----:|:-----:|:-----:\n",
    "Program Purpose and function| |1 | This video demonstrates the input and output, the operation of the program and its functions, is to provide the user with information about the states of the United States, describes the general purpose of the program, and describes the program functions demonstrated in the video, and describes the input and output of the program\n",
    "Data Abstraction| 1| 0| The written response consisted of two clearly identifiable program code segments that also described the data represented by the list contained in the list and some user information, but the college board believed that only the second code segment showed that the data was stored in the identified list , no code is shown to illustrate the data being used in the list\n",
    "Managing Complexity| 0| 0| Response includes a program snippet, but no display list can be used to manage program complexity, and no detailed explanation of what happens if this list is not used\n",
    "Procedural Abstraction| 0| 0| The written response included two program code segments, but he did not reveal the parameters, did not call the program, and did not describe the contribution of the identification process\n",
    "Algorithm Implementation| 1| 0| The written response includes program code snippets for the algorithm developed by the student, sorting, selection, and iteration, and details how to identify the working details of the algorithm so that others can create it, but the college board says it does not include iteration, and does not explain indexing The value is set based on the match and it doesn't say what value is set for each US state\n",
    "Testing| 0| 0| Describes two different calls to the selected procedure without passing different parameters, resulting in different code segment execution, describes the conditions tested by each call to the procedure, and identifies the result of each call, college board says that the response does not specify the results of two calls to the given procedure and there are no two calls to them"
   ]
  },
  {
   "attachments": {},
   "cell_type": "markdown",
   "metadata": {},
   "source": [
    "## Submmision 4"
   ]
  },
  {
   "attachments": {},
   "cell_type": "markdown",
   "metadata": {},
   "source": [
    "**Reporting Category**|**Student**|**College Borad**|**Comments**\n",
    ":-----:|:-----:|:-----:|:-----:\n",
    "Program Purpose and function| 1| 1| This video demonstrates the input and output of this program, one of which is user input by pressing \"a and d\" keys, the output is left and right movement. It demonstrates how the program works and what it does, describes the general purpose of the program, and describes the program's functionality as demonstrated in the video, and describes the program's input and output\n",
    "Data Abstraction| 1| 1| The written response consists of two clearly identifiable program code segments and also describes the data represented by the list contained within the list, indicating the type of fish and the amount of specific fish that will not be obtained.\n",
    "Managing Complexity| 1| 1| This response includes a program snippet, showing lists that can be used to manage program complexity, and a detailed explanation of how to write code in a reasonable way without using this list\n",
    "Procedural Abstraction| 1| 1| The written response included two program code snippets showing the calling programs and describing the function and contribution of the identification process\n",
    "Algorithm Implementation| 1| 1| The written response includes program code snippets for the algorithm developed by the student, sorting, selecting, and iterating, and details how to identify the working details of the algorithm so that others can create it, so the condition is satisfied\n",
    "Testing| 1| 0| The response describes two different calls to the selected procedure, passing different parameters, resulting in the execution of different code segments, describing the conditions tested by each call to the procedure, and identifying the result of each call, so the condition is met , but the college board thinks that it describes the code segment rather than the result of the call, and does not describe the specific parameters passed through the parameters"
   ]
  }
 ],
 "metadata": {
  "kernelspec": {
   "display_name": "base",
   "language": "python",
   "name": "python3"
  },
  "language_info": {
   "name": "python",
   "version": "3.9.12"
  },
  "orig_nbformat": 4,
  "vscode": {
   "interpreter": {
    "hash": "364a94d119261e0775b1b30a60056d37c36efcef8468b46b1878966affcf428e"
   }
  }
 },
 "nbformat": 4,
 "nbformat_minor": 2
}
