{
 "cells": [
  {
   "attachments": {},
   "cell_type": "markdown",
   "metadata": {},
   "source": [
    "# Submmisions 2\n",
    "- toc: true\n",
    "- comments: true"
   ]
  },
  {
   "attachments": {},
   "cell_type": "markdown",
   "metadata": {},
   "source": [
    "## Submmision 1"
   ]
  },
  {
   "attachments": {},
   "cell_type": "markdown",
   "metadata": {},
   "source": [
    "**Reporting Category**|**Student**|**College Borad**|**Comments**\n",
    ":-----:|:-----:|:-----:|:-----:\n",
    "Program Purpose and function| 0| 0| The video shows animal icons and questions as well as inputs and outputs, there is a description of the purpose, but the cemetery does not describe the problem solved by the program and demonstrates the functionality, describing the inputs and outputs of the program, but collegeborad believes that challenging the user's memory is not considered an interaction and this response does not describe the functionality shown in the video.\n",
    "Data Abstraction| 1| 0| Two program snippets are shown, describing the data contained in the list, representing making it shorter and more complex, but the college board believes that animallist is not used in any snippet\n",
    "Managing Complexity| 0| 0| It does not show that a list is used to manage the complexity of the program, and the code is not complex, so it does not meet the requirements. college borad also believes that the code is not complex and that \"the array allows you to store multiple variables, thus making it shorter and more complex.\" This sentence has the end of how it would be written differently without the list, I think they explained, but not complexity\n",
    "Procedural Abstraction|0 | 0| The response contains two program code segments, one in which the parameter guess has an effect on the function and is called, describing what the program does but not its contribution to the overall function of the program\n",
    "Algorithm Implementation| 0| 0| The program code segment contains sequencing, selection, and iteration, but there are no detailed steps at the end of how the identified algorithm works\n",
    "Testing| 1| 1| describes the two invocations of the selected program, but describes the conditions of the test for each invocation, and identifies the results of each invocation"
   ]
  },
  {
   "attachments": {},
   "cell_type": "markdown",
   "metadata": {},
   "source": [
    "## Submmision 2"
   ]
  },
  {
   "attachments": {},
   "cell_type": "markdown",
   "metadata": {},
   "source": [
    "**Reporting Category**|**Student**|**College Borad**|**Comments**\n",
    ":-----:|:-----:|:-----:|:-----:\n",
    "Program Purpose and function| 1| 1| The video demonstrates the operation of the program with inputs and outputs, describing the functions of the program, such as the user entering words to generate different poems, describing the inputs and outputs of the program\n",
    "Data Abstraction| 1| 1| Two program code segments are shown that describe the data contained in the list, nouns that must be located in certain specific positions in order for the poem to have logical meaning\n",
    "Managing Complexity| 1| 1| It shows the complexity of a list being used to manage a program and explains in detail how the code differs in the absence of a list\n",
    "Procedural Abstraction| 1| 1| The response contains two program code segments with several parameters that are called, have an impact on the function, and are called, describing the function of the program and describing its contribution to the overall function of the program\n",
    "Algorithm Implementation| 1|1 | This program snippet contains sequencing, selection, iteration, and a detailed step-by-step explanation of how the identified algorithm works\n",
    "Testing| 1| 1| describes the two calls of the selected program, describes the conditions tested for each call, and identifies the results of each call, all in great detail"
   ]
  },
  {
   "attachments": {},
   "cell_type": "markdown",
   "metadata": {},
   "source": [
    "## Submmision 3"
   ]
  },
  {
   "attachments": {},
   "cell_type": "markdown",
   "metadata": {},
   "source": [
    "**Reporting Category**|**Student**|**College Borad**|**Comments**\n",
    ":-----:|:-----:|:-----:|:-----:\n",
    "Program Purpose and function| 1| 0| The video demonstrates the operation of the program with input and output, describes the function of the program, the response describes the input and output, but college borad thinks the video describes the function of the program and not the purpose, but the decision rule says the purpose described actually refers to the function of the program, I don't quite understand\n",
    "Data Abstraction| 1| 1| It shows two program code segments describing the data contained in the list, the list management complexity, would be simpler and more concise\n",
    "Managing Complexity| 1| 1| It shows that a list is used to manage the complexity of the program and provides exactly what would happen if the list were not used\n",
    "Procedural Abstraction|1 | 1| The response contains two program code segments that describe the findwinner procedure being called, describe the function of the program, and describe its contribution to the overall function of the program, \"adding to the function of the program as it determines the false winner of the battle between the two Marvel characters\"\n",
    "Algorithm Implementation| 1| 1| The program snippet contains sequencing, selection, iteration, and explains in great detail how the algorithm works so that others can recreate it\n",
    "Testing| 1| 1| It describes the two invocations of the selected program, describes the conditions tested for each invocation, and identifies the result of each invocation."
   ]
  },
  {
   "attachments": {},
   "cell_type": "markdown",
   "metadata": {},
   "source": [
    "## Submmision 4"
   ]
  },
  {
   "attachments": {},
   "cell_type": "markdown",
   "metadata": {},
   "source": [
    "**Reporting Category**|**Student**|**College Borad**|**Comments**\n",
    ":-----:|:-----:|:-----:|:-----:\n",
    "Program Purpose and function| 1| 1| The video demonstrates the operation of the program with inputs and outputs, describes the function of the program, and the response describes the inputs and outputs, so the requirements are met.\n",
    "Data Abstraction| 1| 1| It shows two program code segments describing the data contained in the list, representing all the words entered by the user\n",
    "Managing Complexity| 1| 0 | I think it shows a list being used to manage the complexity of the program, and explains the complexity, and what happens without the list, but the college board believes that neither criterion is met because the list is not used to manage complexity, and the use of the list is only as a counter, and the response references the list wordlist as unidentified, so this part of the response is irrelevant.\n",
    "Procedural Abstraction| 1| 1| The response contains two program code segments that illustrate that the checkanswer procedure was called, describes the function of the program, and describes its contribution to the overall function of the program, so this requirement is satisfied\n",
    "Algorithm Implementation| 1| 1| The program snippet contains sequencing, selection, iteration, and explains in great detail how it works so that others can recreate it\n",
    "Testing| 1| 0| I think it describes the two calls to the selected program, describes the conditions tested for each call, and identifies the result of each call, but the college board argues that the response gives the conditions tested, but two different arguments lead to the execution of different code segments"
   ]
  }
 ],
 "metadata": {
  "kernelspec": {
   "display_name": "base",
   "language": "python",
   "name": "python3"
  },
  "language_info": {
   "name": "python",
   "version": "3.9.12"
  },
  "orig_nbformat": 4,
  "vscode": {
   "interpreter": {
    "hash": "364a94d119261e0775b1b30a60056d37c36efcef8468b46b1878966affcf428e"
   }
  }
 },
 "nbformat": 4,
 "nbformat_minor": 2
}
