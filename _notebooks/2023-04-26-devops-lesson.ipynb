{
 "cells": [
  {
   "attachments": {},
   "cell_type": "markdown",
   "metadata": {},
   "source": [
    "# DevOps Lesson\n",
    "\n",
    "- toc: true\n",
    "- categories: []\n",
    "- type: pbl"
   ]
  },
  {
   "cell_type": "code",
   "execution_count": 1,
   "metadata": {},
   "outputs": [
    {
     "name": "stdout",
     "output_type": "stream",
     "text": [
      "142.250.217.142\n"
     ]
    }
   ],
   "source": [
    "import socket\n",
    "\n",
    "# Change the following host and see what IP it prints!\n",
    "host = \"google.com\"\n",
    "ip = socket.gethostbyname(host)\n",
    "\n",
    "print(ip)"
   ]
  },
  {
   "cell_type": "code",
   "execution_count": 3,
   "metadata": {},
   "outputs": [
    {
     "name": "stdout",
     "output_type": "stream",
     "text": [
      "Successfully connected!\n"
     ]
    }
   ],
   "source": [
    "# Initiate a TCP connection to port 80\n",
    "with socket.socket(socket.AF_INET, socket.SOCK_STREAM) as s:\n",
    "    s.connect((ip, 80))\n",
    "    print(\"Successfully connected!\")"
   ]
  },
  {
   "attachments": {},
   "cell_type": "markdown",
   "metadata": {},
   "source": [
    "## Check-In\n",
    "\n",
    "1. What is an IP address?\n",
    "- Internet protocol addresses, it is connected to computer network for communication.\n",
    "2. What is a TCP port?\n",
    "- Transmission Control Protocol, it decides how data is transmmited between devices."
   ]
  },
  {
   "cell_type": "code",
   "execution_count": 5,
   "metadata": {},
   "outputs": [
    {
     "name": "stdout",
     "output_type": "stream",
     "text": [
      "HTTP/1.1 200 OK\n",
      "Date: Wed, 26 Apr 2023 21:18:03 GMT\n",
      "Expires: -1\n",
      "Cache-Control: private, max-age=0\n",
      "Content-Type: text/html; charset=ISO-8859-1\n",
      "Content-Security-Policy-Report-Only: object-src 'none';base-uri 'self';script-src 'nonce-Vqd9W6Vkd772W-RQPt4sYw' 'strict-dynamic' 'report-sample' 'unsafe-eval' 'unsafe-inline' https: http:;report-uri https://csp.withgoogle.com/csp/gws/other-hp\n",
      "P3P: CP=\"This is not a P3P policy! See g.co/p3phelp for more info.\"\n",
      "Server: gws\n",
      "X-XSS-Protection: 0\n",
      "X-Frame-Options: SAMEORIGIN\n",
      "Set-Cookie: 1P_JAR=2023-04-26-21; expires=Fri, 26-May-2023 21:18:03 GMT; path=/; domain=.google.com; Secure\n",
      "Set-Cookie: AEC=AUEFqZcsClvZPkDSK1NPUYMexnbrvfglxohaGmLR7vptrokQ-p3FevGJYg; expires=Mon, 23-Oct-2023 21:18:03 GMT; path=/; domain=.google.com; Secure; HttpOnly; SameSite=lax\n",
      "Set-Cookie: NID=511=aUyWriF4_SaFehCRdZtqvZqPeQMwtisZpTcWnSIVapVKRDhlQoW1wzTDSuOc4nVy79mQHvNEMa4qhgZOZiHSCefoufpeRhNDeiUlTPkO-1B0bkDZwsJZmxv7Ix045M4VIuDt7Nc3yygfbU9x_XjGnmRvNKGAUDclm1jFpUOZK8E; expires=Thu, 26-Oct-2023 21:18:03 GMT; path=/; domain=.google.com; HttpOnly\n",
      "Accept-Ranges: none\n",
      "Vary: Accept-Encoding\n",
      "Transfer-Encoding: chunked\n",
      "\n",
      "5a49\n",
      "<!doctype html><html itemscope=\"\" itemtype=\"http://schema.org/WebPage\" lang=\"en\"><head><meta content=\"Search the world's information, including webpages, images, videos and more. Google has many special features to help you find exactly what you're looking for.\" name=\"description\"><meta content=\"noodp\" name=\"robots\"><meta content=\"text/html; charset=UTF-8\" http-equiv=\"Content-Type\"><meta content=\"/images/branding/googleg/1x/googleg_standard_color_128dp.png\" itemprop=\"image\"><title>Google</title><script nonce=\"Vqd9W6Vkd772W-RQPt4sYw\">(function(){window.google={kEI:'C5VJZOy_GY3akPIPmpmvsA4',kEXPI:'0,1359409,6059,206,4804,2316,383,246,5,1129120,1197714,687,380090,16114,19397,9287,22430,1362,12314,4751,12834,4998,13228,3847,38444,2872,2891,3926,7828,606,29843,20216,10631,6397,8927,432,3,346,1244,1,16916,2652,4,1528,2304,29062,13065,13658,2980,1457,16786,5827,2530,4094,7596,1,42154,\n"
     ]
    }
   ],
   "source": [
    "with socket.socket(socket.AF_INET, socket.SOCK_STREAM) as s:\n",
    "    s.connect((ip, 80))\n",
    "\n",
    "    # Send a GET request to \"/\"\n",
    "    s.sendall(b\"GET / HTTP/1.1\\r\\n\\r\\n\")\n",
    "\n",
    "    # Recieve & print 2048 bytes of data\n",
    "    data = s.recv(2048)\n",
    "    print(data.decode())"
   ]
  },
  {
   "cell_type": "code",
   "execution_count": 4,
   "metadata": {},
   "outputs": [
    {
     "name": "stdout",
     "output_type": "stream",
     "text": [
      "Status code: 200\n",
      "Headers: {'Server': 'nq_website_nonmember-prod-release f3a1d150-c793-4a6b-976d-a5203ca41de1', 'x-frame-options': 'DENY', 'content-type': 'text/html; charset=utf-8', 'cache-control': 'no-cache, no-store, must-revalidate', 'pragma': 'no-cache', 'expires': '0', 'x-robots-tag': 'index', 'date': 'Fri, 28 Apr 2023 05:41:10 GMT', 'x-envoy-upstream-service-time': '238', 'x-b3-traceid': 'fd4a6eb933a7d142', 'x-request-id': '062f4b5e-bf2c-4503-98d8-787bb3f95b61', 'x-envoy-decorator-operation': 'lo_svc', 'x-http2-stream-id': '3', 'Via': '1.1 i-0cd615408cc3bb80c (us-west-2)', 'X-Xss-Protection': '1; mode=block; report=https://www.netflix.com/ichnaea/log/freeform/xssreport', 'X-Content-Type-Options': 'nosniff', 'Strict-Transport-Security': 'max-age=31536000; includeSubDomains', 'X-Originating-URL': 'http://www.netflix.com/', 'Set-Cookie': 'flwssn=2130259a-4a92-4556-bcfc-833e3f4cf445; Max-Age=10800; Domain=.netflix.com; Path=/, nfvdid=BQFmAAEBEOuqX5XH3MuI1OEMx3fBznlAqyZx0aO1kU1-xqy7G1EB9H2GFIAtVSaVJIGxWV3MntdW8dZwnM0yPKJKHTX-tIZS8uDfCB85J6nsTk3-cWSDPg%3D%3D; Domain=.netflix.com; Path=/; Max-Age=31536000, SecureNetflixId=v%3D2%26mac%3DAQEAEQABABQnyQDHR-2y5jaxxPiEeHdYFN81lr2AekI.%26dt%3D1682660470720; Domain=.netflix.com; Expires=Sat, 27 Apr 2024 05:41:10 GMT; Path=/; HttpOnly; Secure; SameSite=Strict, NetflixId=v%3D2%26ct%3DBQAOAAEBEPX35tdrSn4h4TWrhXVzEk6BAMaxv5Et2St2hesB0g9lXvlsdkHFZivOpydRUHgVtI2OqFU7gDUfl7Ybs_JQiz06u-B-0i-8H9TxpHIU3m27e2C0R2GHCPe6hhj_PQRB6k_RQsSpADDsEOPgyZkKEJOGply0EdL5BUi00k8LqGteSn8yovAgYUNOMXtJRl2E7Wji6XWb-qtplO_fAcmTGPIBPD_tkj9A8n0ViJrHPE55q6ipXmXAMM6ukP_FilmLNaYLZnV5exYc9MmYaPhPrMt6liPxBVazsGBrI9cYtlxUSRvHgbwMZ5XIOGSHzd3j8WBzsw0JiES4fGh5TL2lbDePv-lIfqn6fDS5fcGPnT6ht54.%26bt%3Ddev%26mac%3DAQEAEAABABSJecyVDTL27zhZ0TUZwP1iVtNa3lFgZCc.; Domain=.netflix.com; Expires=Sat, 27 Apr 2024 05:41:10 GMT; Path=/; HttpOnly; Secure; SameSite=Lax', 'X-Netflix.nfstatus': '1_1', 'X-Netflix.proxy.execution-time': '302', 'X-Netflix.zuul.netty.content.compressor.target': 'gzip', 'content-encoding': 'gzip', 'transfer-encoding': 'chunked'}\n",
      "Response text: <!doctype html><html lang=\"en\" class=\" \"><head><meta http-equiv=\"Content-Type\" content=\"text/html; c\n"
     ]
    }
   ],
   "source": [
    "import requests\n",
    "\n",
    "# Change the URL to whatever you'd like\n",
    "response = requests.get(\"https://www.netflix.com/\")\n",
    "\n",
    "print(\"Status code:\", response.status_code)\n",
    "print(\"Headers:\", response.headers)\n",
    "print(\"Response text:\", response.text[:100])\n",
    "\n",
    "# Add a line to print the \"Content-Type\" header of the response\n",
    "# Try an image URL!"
   ]
  },
  {
   "attachments": {},
   "cell_type": "markdown",
   "metadata": {},
   "source": [
    "# NGINX"
   ]
  },
  {
   "cell_type": "code",
   "execution_count": 7,
   "metadata": {},
   "outputs": [
    {
     "name": "stdout",
     "output_type": "stream",
     "text": [
      "<html><head><title>ContentKeeper</title></heQad>\n",
      "<body bgcolor=\"#A02E5F\" text=\"White\" link=\"Lime\" vlink=\"Aqua\">\n",
      "<center><br><h1>ContentKeeper<br>Non-Managed Site</h1>\n",
      "No access is available to NON-Managed Sites.<br><br>\n",
      "<table border=\"1\" cellspacing=\"0\">\n",
      "<tr><td>URL</td><td><b>3.130.255.192</b></td></tr>\n",
      "<tr><td>Username</td><td><b>1966620/pusd</b></td></tr></table>\n",
      "</body></html>\n",
      "\n"
     ]
    }
   ],
   "source": [
    "aws = \"3.130.255.192\"\n",
    "\n",
    "response = requests.get(\"http://\" + aws)\n",
    "print(response.text)\n"
   ]
  },
  {
   "attachments": {},
   "cell_type": "markdown",
   "metadata": {},
   "source": [
    "## Configuration\n",
    "\n",
    "```nginx\n",
    "server {\n",
    "    // Listen on virtual \"port 80\"\n",
    "    listen 80;\n",
    "    listen [::]:80;\n",
    "    server_name 3.130.255.192;\n",
    "\n",
    "    location / {\n",
    "        // Inform server about original client\n",
    "        proxy_set_header        Host $host;\n",
    "        proxy_set_header        X-Real-IP $remote_addr;\n",
    "        proxy_set_header        X-Forwarded-For $proxy_add_x_forwarded_for;\n",
    "        proxy_set_header        X-Forwarded-Proto $scheme;\n",
    "\n",
    "        // Forward all requests transparently to the server running on our computer\n",
    "        proxy_pass              http://localhost:9099;\n",
    "    }\n",
    "}\n",
    "```\n",
    "\n",
    "### Load Balancing\n",
    "\n",
    "```nginx\n",
    "upstream example.com {\n",
    "    server server1.example.com;\n",
    "    server server1.example.com;\n",
    "}\n",
    "```\n",
    "\n",
    "### HTTP Headers\n",
    "\n",
    "```nginx\n",
    "server {\n",
    "    add_header X-Cool-Header \"I love APCSP!\";\n",
    "\n",
    "    location /pages {\n",
    "        add_header X-Cooler-Header \"This is my secret header!\";\n",
    "    }\n",
    "}\n",
    "```\n",
    "\n",
    "## Check In\n",
    "\n",
    "1. Research 1 HTTP header and describe, in detail, its purpose.\n",
    "- Request headers contain details of the client requesting the resource.\n",
    "2. Write a line in a sample NGINX configuration that will add that specific header to the `/information` location\n",
    "- Sorry, I don't know how to do this..\n",
    "3. Explain the purpose of the load balancing performed by NGINX\n",
    "Distribute incoming network traffic among multiple servers to increase application availability\n",
    "4. Modify the following code block to obtain the value of the secret header on `/products` of the AWS site\n"
   ]
  },
  {
   "cell_type": "code",
   "execution_count": 12,
   "metadata": {},
   "outputs": [
    {
     "name": "stdout",
     "output_type": "stream",
     "text": [
      "The secret header is not present in the response headers\n"
     ]
    }
   ],
   "source": [
    "import requests\n",
    "aws = \"3.130.255.192\"\n",
    "# send the GET requests to URL\n",
    "# use get() to retrieve the value.\n",
    "response = requests.get(\"http://\" + aws+ \"/products\")\n",
    "secret_header = response.headers.get('X-Secret-Header')\n",
    "# If the header is present in the response, its value will be printed to the console. \n",
    "# If the header is not present in the response, a message indicating so will be printed.\n",
    "if secret_header:\n",
    "    print(\"The secret header is:\", secret_header)\n",
    "else:\n",
    "    print(\"The secret header is not present in the response headers\")"
   ]
  },
  {
   "attachments": {},
   "cell_type": "markdown",
   "metadata": {},
   "source": [
    "# Hacks\n",
    "\n",
    "- Complete the above check-in questions and change the hosts (0.1)\n",
    "- Complete the above code-segment to retrieve the secret header (0.1)\n",
    "- sorry I can't find the secret header.\n",
    "\n",
    "## Bonus (0.05)\n",
    "\n",
    "Create a diagram showing the layers of abstraction that allow us to use HTTP (IP, TCP, etc.)"
   ]
  },
  {
   "attachments": {},
   "cell_type": "markdown",
   "metadata": {},
   "source": [
    "# CORS Hacks\n",
    "\n",
    "1. Explain what CORS is and what it stands for\n",
    "- It stands for Cross-origin Resource Sharing. It allows the server to indicate any origin (domain, scheme or port) other than itself, from which the browser should allow resources to be loaded.\n",
    "2. Describe how you would be able to implement CORS into your own websites\n",
    "- I can use this to determine if the browser is blocking responses from front-end JavaScript code from accessing cross-origin requests.\n",
    "3. Describe why you would want to implement CORS into your own websites\n",
    "- JavaScript can only call URLs on the same origin as where the script is running, and if CORS is used, it will be able to call APIs on different domains\n",
    "4. How could use CORS to benefit yourself in the future?\n",
    "- I will be able to access different schemes, different domains, different ports, although the URL being accessed is not the same as where JavaScript is running\n",
    "\n",
    "# KASM Hacks\n",
    "\n",
    "1. What is the purpose of \"sudo\" when running commands in terminal?\n",
    "- Run with administrator privileges\n",
    "2. What are some commands which allow us to look at how the storage of a machine is set up as?\n",
    "- We can use df, du commands in linux to check it.\n",
    "3. What do you think are some alternatives to running \"curl -O\" to get the zip file for KASM?\n",
    "- We can use \"wget\" command.\n",
    "4. What kind of commands do you think the \"install.sh\" command has and why is it necessary to call it?\n",
    "- It's a script command. It can be used for installing and save some time.\n",
    "5. Explain in at least 3-4 sentences how deploying KASM is related to/requires other topics talked about in the lesson and/or potential ways to add things mentioned in the lesson to this guide.\n",
    "- I think it is very similar to GitHub. It is a workspace. Through docker containers, it can reduce platform resource requirements and provide a secure environment."
   ]
  }
 ],
 "metadata": {
  "kernelspec": {
   "display_name": "base",
   "language": "python",
   "name": "python3"
  },
  "language_info": {
   "codemirror_mode": {
    "name": "ipython",
    "version": 3
   },
   "file_extension": ".py",
   "mimetype": "text/x-python",
   "name": "python",
   "nbconvert_exporter": "python",
   "pygments_lexer": "ipython3",
   "version": "3.9.12"
  },
  "orig_nbformat": 4
 },
 "nbformat": 4,
 "nbformat_minor": 2
}
