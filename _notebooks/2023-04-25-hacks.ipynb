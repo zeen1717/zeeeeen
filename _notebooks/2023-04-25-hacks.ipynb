{
 "cells": [
  {
   "attachments": {},
   "cell_type": "markdown",
   "metadata": {},
   "source": [
    "# 4/25 Hacks\n",
    "- toc: true\n",
    "- categories: [Notebooks]\n",
    "- week: 31"
   ]
  },
  {
   "attachments": {},
   "cell_type": "markdown",
   "metadata": {},
   "source": [
    "# Lesson Portion 6 Hacks\n",
    "#### Printing a CSV File (0.5)\n",
    "- Use this link https://github.com/ali-ce/datasets to select csv file of a topic you are interested in, or you may find one online.\n",
    "- Once you select your topic make sure it is a csv file and then you want to press on the button that says raw.\n",
    "- After that copy that information and create a file with a name and .csv at the end and paste your information.\n",
    "- Below is a start that you can use for your hacks.\n",
    "- Your goal is to print 2 specific parts from data (example could be like population and country)."
   ]
  },
  {
   "cell_type": "code",
   "execution_count": 21,
   "metadata": {},
   "outputs": [
    {
     "name": "stdout",
     "output_type": "stream",
     "text": [
      "\n",
      "Stats for Google Now:\n",
      "        Location  Year\n",
      "2  United States  2012\n"
     ]
    }
   ],
   "source": [
    "import pandas as pd\n",
    "# Load the CSV file into a Pandas DataFrame\n",
    "df = pd.read_csv('/home/zeen/vscode/zeeeeen/_notebooks/AI.csv')\n",
    "# Filter the DataFrame to only include stats for a  (in this case, Jimmy Butler)\n",
    "Project_name = 'Google Now'\n",
    "Project_stats = df[df['Project'] == Project_name]\n",
    "# Print out the column names of the DataFrame\n",
    "# print(df.columns)\n",
    "\n",
    "# Display the stats of locaiton and year for the Project\n",
    "print(f\"\\nStats for {Project_name}:\")\n",
    "print(Project_stats[['Location', 'Year']])"
   ]
  },
  {
   "attachments": {},
   "cell_type": "markdown",
   "metadata": {},
   "source": [
    "\n",
    "## Popcorn Hacks (0.2)"
   ]
  },
  {
   "cell_type": "code",
   "execution_count": 22,
   "metadata": {},
   "outputs": [
    {
     "name": "stdout",
     "output_type": "stream",
     "text": [
      "The 25th percentile weight is 55.0 kg\n",
      "The 60th percentile weight is 60.0 kg\n",
      "The 80th percentile weight is 64.4 kg\n",
      "There are 1 players in the top 10% heavest.\n"
     ]
    }
   ],
   "source": [
    "# Starter Code\n",
    "\n",
    "import numpy as np\n",
    "\n",
    "#Create a NumPy array of the Weights, Weights is the weight.\n",
    "Weights = np.array([50,60,70,65,64,55,58,60,50])\n",
    "\n",
    "# Calculate the percentile rank of Weights\n",
    "percentiles = np.percentile(Weights, [25,60,80])\n",
    "\n",
    "# Print the results\n",
    "print(\"The 25th percentile weight is\", percentiles[0], \"kg\")\n",
    "print(\"The 60th percentile weight is\", percentiles[1], \"kg\")\n",
    "print(\"The 80th percentile weight is\", percentiles[2], \"kg\")\n",
    "\n",
    "# Determine the number of players who are in the top 10% Weights\n",
    "top_10_percent = np.percentile(Weights, 90)\n",
    "z = Weights[Weights >= top_10_percent]\n",
    "\n",
    "print(\"There are\", len(z), \"players in the top 10% heavest.\")\n"
   ]
  },
  {
   "attachments": {},
   "cell_type": "markdown",
   "metadata": {},
   "source": [
    "## Answering Questions (0.2)\n",
    "Question Hacks\n",
    "\n",
    "#### What is NumPy and how is it used in data analysis?\n",
    "- Numpy can process numerical values, put data together, so they are very important\n",
    "\n",
    "#### What is Pandas and how is it used in data analysis?\n",
    "- Pandas can mark the position of each numerical value, it involves data analysis in python.\n",
    "\n",
    "#### How is NunPy different than Pandas for data analysis?\n",
    "- Numpy is to put datas together and pandas is to mark each data to help you find the specific one.\n",
    "\n",
    "#### What is a DataFrame?\n",
    "- It can label data structure with columns.\n",
    "\n",
    "#### What are some common operations you can perform with NunPy?\n",
    "- It can work with arrays and apply some mathematics funciton.\n",
    "\n",
    "#### How Can You Incorporate Either of these Data Analysis Tools (NunPy, Pandas) into your project?\n",
    "- I think I can import numpy to array my data in my database and using pandas to find the specific user with their id and scores, or do some stats to find mean, median and so on.\n",
    "\n",
    "#### Submit By Thursday 8:35 A.M.\n",
    "- How to Submit: Slack a Blog Post that includes all of your hacks to \"Joshua Williams\" on Slack."
   ]
  }
 ],
 "metadata": {
  "kernelspec": {
   "display_name": "base",
   "language": "python",
   "name": "python3"
  },
  "language_info": {
   "name": "python",
   "version": "3.9.12"
  },
  "orig_nbformat": 4
 },
 "nbformat": 4,
 "nbformat_minor": 2
}
