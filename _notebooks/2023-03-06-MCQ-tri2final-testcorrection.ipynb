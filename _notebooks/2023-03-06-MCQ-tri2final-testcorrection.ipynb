{
 "cells": [
  {
   "cell_type": "markdown",
   "metadata": {},
   "source": [
    "# Test Correction\n",
    "- toc: true\n",
    "- comment: true"
   ]
  },
  {
   "attachments": {},
   "cell_type": "markdown",
   "metadata": {},
   "source": [
    "## Correction\n",
    "![](images/%E5%B1%8F%E5%B9%95%E6%88%AA%E5%9B%BE%202023-03-06%20122859.png)\n",
    "\n",
    "Websites that a user visits may use aggregated information in browser cookies to track users and collect information about users.'\n",
    "\n",
    "![](images/%E5%B1%8F%E5%B9%95%E6%88%AA%E5%9B%BE%202023-03-06%20123819.png)\n",
    "\n",
    "These online newspapers are often linked to physical newspapers, which are considered reliable sources of information.\n",
    "\n",
    "![](images/%E5%B1%8F%E5%B9%95%E6%88%AA%E5%9B%BE%202023-03-07%20130609.png)\n",
    "\n",
    "The binary representation (3 bits) of 3 and 5 are 101 and 011, respectively. If these numbers were added, the result would be 1000. Since this example uses only 3 bits to represent an integer, the result will be stored as 000. This is an example of an overflow error.(from college board)\n",
    "\n",
    "![](images/%E5%B1%8F%E5%B9%95%E6%88%AA%E5%9B%BE%202023-03-07%20153513.png)\n",
    "\n",
    "The procedure will display 2, which is the correct index for the target name \"Ben\".\n",
    "\n",
    "![](images/%E5%B1%8F%E5%B9%95%E6%88%AA%E5%9B%BE%202023-03-07%20153619.png)\n",
    "\n",
    "This algorithm selects 30 students from the group of 1 student, and then selects another student from the remaining 29 students. Any possible student pair is equally likely to be selected.\n",
    "\n",
    "![](images/23.png)\n",
    "I got it wrong when I saw the picture.\n",
    "\n",
    "![](images/%E5%B1%8F%E5%B9%95%E6%88%AA%E5%9B%BE%202023-03-07%20154050.png)\n",
    "\n",
    "I misread the title, I thought it started from the bottom left square and moved to the original position\n",
    "\n",
    "![](images/%E5%B1%8F%E5%B9%95%E6%88%AA%E5%9B%BE%202023-03-07%20154354.png)\n",
    "\n",
    "Procedures created to solve subproblems of a larger problem are called by name.\n",
    "![](images/%E5%B1%8F%E5%B9%95%E6%88%AA%E5%9B%BE%202023-03-08%20135123.png)\n",
    "\n",
    "The sum of the values in the file can be divided by the number of values in the file to calculate the desired average.\n",
    "![](images/%E5%B1%8F%E5%B9%95%E6%88%AA%E5%9B%BE%202023-03-08%20135306.png)\n",
    "\n",
    "Running simulations can be used without observations, not a restriction"
   ]
  }
 ],
 "metadata": {
  "language_info": {
   "name": "python"
  },
  "orig_nbformat": 4
 },
 "nbformat": 4,
 "nbformat_minor": 2
}
