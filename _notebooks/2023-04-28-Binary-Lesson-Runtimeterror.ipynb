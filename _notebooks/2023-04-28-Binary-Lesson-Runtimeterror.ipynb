{
 "cells": [
  {
   "attachments": {},
   "cell_type": "markdown",
   "metadata": {},
   "source": [
    "#  P4-M 4/28 Binary Lesson HACKS\n",
    "> Learn the basics of binary including truth tables, boolean expressions, binary conversions, and binary searches.\n",
    "- toc: true\n",
    "- permalink: /binary/lesson\n",
    "- comments: true\n",
    "- categories: [week 31, binary, lesson]"
   ]
  },
  {
   "attachments": {},
   "cell_type": "markdown",
   "metadata": {},
   "source": [
    "# Lesson Note Taker\n",
    "> Fill in the blanks below during the binary presentation. You can visit our [website here!](https://theoh32.github.io/Runtime_Terror/2023-3-30-mainlesson.html)\n",
    "^ Due to last minute deployment issues, may need to run a local server\n",
    "\n",
    "1. git clone https://github.com/TheoH32/Runtime_Terror.git\n",
    "2. run: \n",
    "- bundle install\n",
    "- bundle exec jekyll serve"
   ]
  },
  {
   "attachments": {},
   "cell_type": "markdown",
   "metadata": {},
   "source": [
    "## Binary \n",
    "\n",
    "1. Binary is a base __2__ number system.\n",
    "2. 0 represents __OFF__ and 1 represents __ON__.\n",
    "3. A __Binary digit=Bit(only1,0)__ is the minimum unit of binary information stored in a computer system.\n",
    "\n",
    "## Boolean Expressions\n",
    "\n",
    "1. A ______Boolean expression______ is a logical statement that is either TRUE or FALSE and compares data.\n",
    "\n",
    "## Truth Tables\n",
    "\n",
    "1. The logical operations shown in truth tables are __AND_, _OR__, __NOT_, and __XOR_."
   ]
  },
  {
   "cell_type": "code",
   "execution_count": 8,
   "metadata": {},
   "outputs": [
    {
     "data": {
      "text/plain": [
       "True"
      ]
     },
     "execution_count": 8,
     "metadata": {},
     "output_type": "execute_result"
    }
   ],
   "source": [
    "# Run this code!! See how boolean expressions work and show the outputs of truth tables.\n",
    "\n",
    "# AND\n",
    "5 > 3 and 5 == 3 + 2"
   ]
  },
  {
   "cell_type": "code",
   "execution_count": 9,
   "metadata": {},
   "outputs": [
    {
     "data": {
      "text/plain": [
       "False"
      ]
     },
     "execution_count": 9,
     "metadata": {},
     "output_type": "execute_result"
    }
   ],
   "source": [
    "\n",
    "5 < 3 and 5 == 5"
   ]
  },
  {
   "cell_type": "code",
   "execution_count": 10,
   "metadata": {},
   "outputs": [
    {
     "data": {
      "text/plain": [
       "True"
      ]
     },
     "execution_count": 10,
     "metadata": {},
     "output_type": "execute_result"
    }
   ],
   "source": [
    "# OR\n",
    "5 == 5 or 5 != 5"
   ]
  },
  {
   "cell_type": "code",
   "execution_count": 11,
   "metadata": {},
   "outputs": [
    {
     "data": {
      "text/plain": [
       "False"
      ]
     },
     "execution_count": 11,
     "metadata": {},
     "output_type": "execute_result"
    }
   ],
   "source": [
    "5 < 3 or 5 != 5"
   ]
  },
  {
   "attachments": {},
   "cell_type": "markdown",
   "metadata": {},
   "source": [
    "### Real Life Example using Boolean Expressions\n",
    "\n",
    "Try changing the conditions and/or the logical operation below! Run the code to see if you are eligible to vote."
   ]
  },
  {
   "cell_type": "code",
   "execution_count": 12,
   "metadata": {},
   "outputs": [
    {
     "name": "stdout",
     "output_type": "stream",
     "text": [
      "You are not eligible to vote.\n"
     ]
    }
   ],
   "source": [
    "# Real life example\n",
    "age = 17\n",
    "citizen = True\n",
    "\n",
    "if age >= 18 and citizen:\n",
    "    print(\"You are eligible to vote.\")\n",
    "else:\n",
    "    print(\"You are not eligible to vote.\")"
   ]
  },
  {
   "attachments": {},
   "cell_type": "markdown",
   "metadata": {},
   "source": [
    "## Binary Conversions\n",
    "\n",
    "### Binary to Decimal\n",
    "\n",
    "1. We can count in binary by using powers of __2__.\n",
    "2. In binary, we read from __right__ to __left__.\n",
    "3. 0111 has a value of __7__.\n",
    "\n",
    "\n",
    "### Binary Search\n",
    "\n",
    "1. For a binary search, the list must be __sorted__. \n",
    "2. In a binary search, computers start at the __middle__(front,middle,end)/\n",
    "3. The number of steps required in a binary search follows the equation: ___n    ( log2(n)+1)__.\n",
    "4. Binary searches also work with a list of __strings__. We can sort them alphabetically.\n",
    "5. Binary searches can be represented in __tree__ diagrams."
   ]
  },
  {
   "attachments": {},
   "cell_type": "markdown",
   "metadata": {},
   "source": [
    "# Hacks\n",
    "> You will NOT be awarded any points for sections that are INCOMPLETE\n",
    "\n",
    "### Note Taker\n",
    "\n",
    "1. Fill in all of the blanks above.\n",
    "\n",
    "### Lesson Quiz\n",
    "\n",
    "1. Complete the lesson quiz\n",
    "2. SCREENSHOT SCORE and paste it here (or paste screenshot with submission)\n",
    "![](image/score.png)\n",
    "\n",
    "### Binary Game\n",
    "\n",
    "1. Complete the Binary game and reach a minimum score of 10! \n",
    "2. SCREENSHOT SCORE and paste it here (or with submission)\n",
    "\n",
    "Sorry, I have no idea how to get to the Game page."
   ]
  },
  {
   "attachments": {},
   "cell_type": "markdown",
   "metadata": {},
   "source": [
    "### Binary Conversions Practice\n",
    "\n",
    "1. Convert the decimal number \"17\" into binary.\n",
    "- 10001, 2 to the power of 4 plus 2 to the power of 1.\n",
    "2. Convert the binary number 1010 into decimal.\n",
    "- 10, 2 to the power of 1 plus 2 to the power of 3.\n",
    "3. Convert the decimal number \"122\" into hexadecimal.\n",
    "- 122 divided by 16 is 7 and remainder of 10, and then 7 divided by 16 is 0 with remainder of 7, so 7 is A, so it's 7A.\n",
    "4. Convert the hexadecimal number \"09\" into binary.\n",
    "- 9 divided by 16 is 0 with remainder of 9 so it's 9, 00001001."
   ]
  },
  {
   "attachments": {},
   "cell_type": "markdown",
   "metadata": {},
   "source": [
    "### Binary Search Questions\n",
    "\n",
    "1. Make a binary search tree of different the list [1,2,4,15,25,30,31]\n",
    "![](/home/zeen/vscode/zeeeeen/_notebooks/image/123.jpg)\n",
    "2. Put this list of strings in a order that can be used for binary search [\"Donut”,\"Cake”,\"Soda”,\"Banana”,\"Fruit”]\n",
    "\n",
    "[\"Banana”, \"Cake”, \"Donut”, \"Fruit”, \"Soda”]\n",
    "\n",
    "3. Explain why Binary Search is more efficient than Sequential Search.\n",
    "- Because the binary search starts from the middlemost parameter in a list, and then searches by continuously comparing a group of medians, while the sequential search searches one by one, and must go through each data"
   ]
  },
  {
   "attachments": {},
   "cell_type": "markdown",
   "metadata": {},
   "source": [
    "### Extra Credit:\n",
    "\n",
    "- Translate the binary number, 1001010, into octal (base 8). <mark>SHOW YOUR WORK AND EXPLAIN YOUR THINKING.</mark>\n",
    "OR\n",
    "- write the best rap line (determined during the lesson by group)\n"
   ]
  },
  {
   "attachments": {},
   "cell_type": "markdown",
   "metadata": {},
   "source": [
    "# Hacks Scoring\n",
    "\n",
    "| Hack | Comments | Grade |\n",
    "|---|---|---|\n",
    "| Note Taker | fill in the blanks above | 0.1 |\n",
    "| Lesson Quiz | under 100% = 0.1 only | 0.2 |\n",
    "| Binary Game | must score at least 10 points | 0.2 |\n",
    "| Binary Conversions Practice | if incorrect= 0.2 awarded | 0.2 |\n",
    "| Binary Search Questions | if incorrect= 0.2 awarded | 0.2 |\n",
    "| Extra Credit | MUST SHOW WORK | 0.1 |\n",
    "| Total | expected= 0.9/1 | 1/1 |"
   ]
  }
 ],
 "metadata": {
  "kernelspec": {
   "display_name": "base",
   "language": "python",
   "name": "python3"
  },
  "language_info": {
   "codemirror_mode": {
    "name": "ipython",
    "version": 3
   },
   "file_extension": ".py",
   "mimetype": "text/x-python",
   "name": "python",
   "nbconvert_exporter": "python",
   "pygments_lexer": "ipython3",
   "version": "3.9.12"
  },
  "orig_nbformat": 4
 },
 "nbformat": 4,
 "nbformat_minor": 2
}
