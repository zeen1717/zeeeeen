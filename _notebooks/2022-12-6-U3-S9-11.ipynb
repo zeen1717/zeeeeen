{
 "cells": [
  {
   "cell_type": "markdown",
   "metadata": {},
   "source": [
    "# U3 S9 and S11\n",
    "- toc: true \n",
    "- comments: true"
   ]
  },
  {
   "attachments": {},
   "cell_type": "markdown",
   "metadata": {},
   "source": [
    "## Notes\n",
    "- If clauses are separated or have one if clause inside another if clause is possible to be different\n",
    "- Boolean values can be expressed in different ways to express the same result\n",
    "- When applied to sorted data, binary search is usually more efficient than sequential/linear search. \n",
    "- And binary search must sort groups of numbers in ascending or descending order"
   ]
  },
  {
   "attachments": {},
   "cell_type": "markdown",
   "metadata": {},
   "source": [
    "# Hacks\n",
    "1. Write this Boolean statement in the form of a conditional (if/else) statement: stayInside⟵((isCold) OR (isRaining))"
   ]
  },
  {
   "cell_type": "code",
   "execution_count": null,
   "metadata": {
    "vscode": {
     "languageId": "csharp"
    }
   },
   "outputs": [],
   "source": [
    "if (isCold or isRaining)\n",
    "{\n",
    "    stayInside <-- True\n",
    "}\n",
    "else\n",
    "{\n",
    "    stayInside <-- False\n",
    "}"
   ]
  },
  {
   "attachments": {},
   "cell_type": "markdown",
   "metadata": {},
   "source": [
    "2. Create an algorithm that uses selection and/or iteration that will represent one player’s complete turn.\n",
    "\n",
    "During a turn, each player gets 4 attempts/chances to get the greatest number possible.\n",
    "\n",
    "During each attempt, the player will use a random number generator to select a random number from 1 to 10.\n",
    "\n",
    "After they have had 4 chances, their score is the greatest number they received from the random number generator, and their turn is over."
   ]
  },
  {
   "cell_type": "code",
   "execution_count": 9,
   "metadata": {},
   "outputs": [
    {
     "name": "stdout",
     "output_type": "stream",
     "text": [
      "[2, 8, 2, 2]\n",
      "Final Score: 8\n"
     ]
    }
   ],
   "source": [
    "import random\n",
    "attempts = 4\n",
    "score = []\n",
    "while attempts > 0:\n",
    "    score.append(random.randint(1,10))\n",
    "    attempts = attempts - 1\n",
    "\n",
    "print(score)\n",
    "print(\"Final Score:\",max(score))"
   ]
  },
  {
   "attachments": {},
   "cell_type": "markdown",
   "metadata": {},
   "source": [
    "3. Create an algorithm that will allow the arrow to reach the gray square"
   ]
  },
  {
   "cell_type": "code",
   "execution_count": null,
   "metadata": {},
   "outputs": [],
   "source": [
    "{\n",
    "if IsBlocked{\n",
    "    TurnRight\n",
    "}\n",
    "else{\n",
    "    MoveForward\n",
    "}\n",
    "}"
   ]
  },
  {
   "attachments": {},
   "cell_type": "markdown",
   "metadata": {},
   "source": [
    "4. Make a binary search tree of different the list [1,2,3,4,6,9,11,69]"
   ]
  },
  {
   "attachments": {},
   "cell_type": "markdown",
   "metadata": {},
   "source": [
    "![](3.jpg)"
   ]
  },
  {
   "attachments": {},
   "cell_type": "markdown",
   "metadata": {},
   "source": [
    "5. Explain thorughly how to find the number 69 in the list above (use key words)\n",
    "\n",
    "Divide the first index number plus the last index number by two, take the median, if it is not 69, continue and check the left and right indexes, if it is smaller than 69, branch search to the right, and vice versa to the left, repeat the process until it finds 69"
   ]
  },
  {
   "attachments": {},
   "cell_type": "markdown",
   "metadata": {},
   "source": [
    "6. Make a diagram explaining how you found the list (not tree, include equation)\n",
    "\n",
    "![](1.jpg)"
   ]
  },
  {
   "attachments": {},
   "cell_type": "markdown",
   "metadata": {},
   "source": [
    "7. Put this list of strings in a order that can be used for binary search [“store”,”Market”,”Walmart”,Target”,”Ralphs”]\n",
    "\n",
    "[\"Market\",\"Ralphs\",\"store\",\"Target\",\"Walmart\"]\n",
    "Put initial letters in alphabetical order"
   ]
  },
  {
   "attachments": {},
   "cell_type": "markdown",
   "metadata": {},
   "source": [
    "8. Explain why Binary Search is more efficient than Sequential Search\n",
    "\n",
    "Because using sequential search, it needs to eliminate one number at a time to find the answer, but if you use binary search, it is constantly half and half to narrow down the range, and then finally determine the number, so binary search is obviously more efficient"
   ]
  },
  {
   "attachments": {},
   "cell_type": "markdown",
   "metadata": {},
   "source": [
    "9. [64,36,16,11,9] Explain which number you are finding, how many check it would take, and make a binary search tree"
   ]
  },
  {
   "attachments": {},
   "cell_type": "markdown",
   "metadata": {},
   "source": [
    "9, 2 times check"
   ]
  },
  {
   "attachments": {},
   "cell_type": "markdown",
   "metadata": {},
   "source": [
    "![](2.jpg)"
   ]
  }
 ],
 "metadata": {
  "kernelspec": {
   "display_name": "Python 3.9.12 ('base')",
   "language": "python",
   "name": "python3"
  },
  "language_info": {
   "codemirror_mode": {
    "name": "ipython",
    "version": 3
   },
   "file_extension": ".py",
   "mimetype": "text/x-python",
   "name": "python",
   "nbconvert_exporter": "python",
   "pygments_lexer": "ipython3",
   "version": "3.9.12"
  },
  "orig_nbformat": 4,
  "vscode": {
   "interpreter": {
    "hash": "364a94d119261e0775b1b30a60056d37c36efcef8468b46b1878966affcf428e"
   }
  }
 },
 "nbformat": 4,
 "nbformat_minor": 2
}
