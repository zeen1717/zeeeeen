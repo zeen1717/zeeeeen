{
 "cells": [
  {
   "attachments": {},
   "cell_type": "markdown",
   "metadata": {},
   "source": [
    "# U3 S12-13 Homework\n",
    "- toc: true \n",
    "- comments: true"
   ]
  },
  {
   "attachments": {},
   "cell_type": "markdown",
   "metadata": {},
   "source": [
    "## Notes\n",
    "- Procedures can perform certain operations but do not return values\n",
    "- Procedures can be used to convert values\n",
    "- The name of the procedure must be descriptive\n",
    "- We can modularize procedures by dividing complex procedures into several simple procedures\n"
   ]
  },
  {
   "attachments": {},
   "cell_type": "markdown",
   "metadata": {},
   "source": [
    "## 3.12 Hacks part 1"
   ]
  },
  {
   "attachments": {},
   "cell_type": "markdown",
   "metadata": {},
   "source": [
    "Problem 1: This problem involves parameters\n",
    "Qais is writing code to calculate formulas from his math class. He's currently working on a procedure to calculate average speed, based on this formula:\n",
    "\n",
    "Average speed=\n",
    "\n",
    "Total Time/Total Distance​\n",
    "\n",
    "Highlight which of these is the best procedure for calculating and displaying average speed.\n",
    "PROCEDURE calcAvgSpeed (distance, time) { DISPLAY (distance/time) }\n",
    "PROCEDURE calcAvgSpeed (distance) { DISPLAY (distance/time) }\n",
    "PROCEDURE calcAvgSpeed (distance, time) { DISPLAY (time/distance) }\n",
    "\n",
    "\n",
    "\n",
    "\n",
    "\n",
    "\n",
    "\n",
    "Problem 2: Procedures with return values\n",
    "James Hunter is looking through his classmate's program and sees a procedure called heightenEmotions: PROCEDURE heightenEmotions(myEmotion)\n",
    "\n",
    "{ moreEnergy ← CONCAT(myEmotion, \"!!!\")\n",
    "\n",
    "moreVolume ← UPPER(moreEnergy)\n",
    "\n",
    "RETURN moreVolume }\n",
    "\n",
    "That procedure manipulates strings using two built-in procedures, CONCAT for concatenating two strings together, and UPPER for converting a string to uppercase.\n",
    "\n",
    "James Hunter then sees this line of code:\n",
    "\n",
    "heightenEmotions(\"im mad\")\n",
    "\n",
    "After that line of code runs, will nothing be displayed?\n",
    "\n",
    "\n",
    "False\n",
    "\n",
    "\n",
    "\n",
    "\n",
    "\n",
    "\n",
    "Problem 3: Procedures with return values\n",
    "Bubz is writing a program to calculate the carbon footprint of his activities. The procedure calcFlightFootprint calculates the pounds of carbon dioxide produced per passenger in a flight that covers a given number of miles and seats a given number of passengers.\n",
    "\n",
    "PROCEDURE calcFlightFootprint(numMiles, numPassengers) { CO2_PER_MILE ← 53.29\n",
    "\n",
    "carbonPerFlight ← numMiles * CO2_PER_MILE\n",
    "\n",
    "carbonPerPassenger ← carbonPerFlight / numPassengers\n",
    "\n",
    "RETURN carbonPerPassenger\n",
    "\n",
    "}\n",
    "\n",
    "Bubz wants to use that procedure to calculate the total footprint for his two upcoming flights: LA to NY: 2,451 miles and 118 passengers NY to London: 3,442 miles and 252 passengers\n",
    "\n",
    "Which of these code snippets successfully calculates and stores her total footprint? Highlight 2 answers.\n",
    "\n",
    "\n",
    "\n",
    "totalFootprint ← calcFlightFootprint(2451, 118) + calcFlightFootprint(3442, 252)\n",
    "\n",
    "\n",
    "\n",
    "\n",
    "laNyCarbon ← calcFlightFootprint(2451, 118) nyLondonCarbon ← calcFlightFootprint(3442, 252) totalFootprint ← laNyCarbon + nyLondonCarbon\n",
    "\n",
    "</div> </div> </div> </div>"
   ]
  },
  {
   "attachments": {},
   "cell_type": "markdown",
   "metadata": {},
   "source": [
    "## 3.12 Hacks part 2"
   ]
  },
  {
   "attachments": {},
   "cell_type": "markdown",
   "metadata": {},
   "source": [
    "\n",
    "PROCEDURE find a ()\n",
    "\n",
    "{ c -- 9\n",
    "\n",
    "b <-- 9 * 9    \n",
    "\n",
    "a <-- b * c     \n",
    "\n",
    "Print (a)\n",
    "\n",
    "}\n",
    "\n",
    "What is a?\n",
    "\n",
    "a=729\n",
    "\n",
    "\n",
    "\n",
    "cost ⟵ 173 tax - 10%\n",
    "\n",
    "PROCEDURE applytax (cost, cpercentDiscounted) { temp <-- 100 + percentTaxed\n",
    "\n",
    "temp <-- temp / 100\n",
    "\n",
    "cost <-- cost x temp       \n",
    "\n",
    "Print(cost)} \n",
    "\n",
    "What is the cost?\n",
    "\n",
    "cost is 190.3\n",
    "\n",
    "\n",
    "Tempature - 103 Degrees\n",
    "\n",
    "PROCEDURE convet Fahrenheit (tempature)\n",
    "\n",
    "{\n",
    "\n",
    "Celsius <-- tempature - 32  \n",
    "\n",
    "Celsius <-- Celsius x 5/9      \n",
    "\n",
    "Print (Celsius)}\n",
    "\n",
    "Celsius is 39.44"
   ]
  },
  {
   "attachments": {},
   "cell_type": "markdown",
   "metadata": {},
   "source": [
    "## 3.13 Homework/Hacks for Part 1 and Part 2 of the lesson"
   ]
  },
  {
   "attachments": {},
   "cell_type": "markdown",
   "metadata": {},
   "source": [
    "1. Create a procedure that is meant to replace the top running backs yards per game in one season if the current running back has more yards per game\n",
    "\n",
    "Necessary Parameters: toprbyardspg(100), currentrbyards(1260), totalGames(12)"
   ]
  },
  {
   "cell_type": "code",
   "execution_count": null,
   "metadata": {
    "vscode": {
     "languageId": "powershell"
    }
   },
   "outputs": [],
   "source": [
    "PROCEDURE updateByardspg(toprbyardspg, currentrbyards, totalGames)\n",
    "{\n",
    "    currentrbyardspg <-- currentrbyards/totalGames\n",
    "    if (currentrbyardspg > toprbyardspg)\n",
    "    {\n",
    "        toprbyardspg <-- currentrbyards\n",
    "    }\n",
    "    return(toprbyardspg)\n",
    "}"
   ]
  },
  {
   "attachments": {},
   "cell_type": "markdown",
   "metadata": {},
   "source": [
    "2.  Write a procedure that will allow the A+ to get to the 1, while avoiding the black boxes.\n",
    "\n",
    "Use what you learned about moving robots"
   ]
  },
  {
   "cell_type": "code",
   "execution_count": null,
   "metadata": {
    "vscode": {
     "languageId": "powershell"
    }
   },
   "outputs": [],
   "source": [
    "PROCEDURE A+GetTo1()\n",
    "{\n",
    "    move_Forward()\n",
    "    rotate_left()\n",
    "    move_Forward()\n",
    "    move_Forward()\n",
    "    rotate_right()\n",
    "    move_Forward()\n",
    "    move_Forward()\n",
    "    move_Forward()\n",
    "    rotate_left()\n",
    "    move_Forward()\n",
    "    move_Forward()\n",
    "    rotate_left()\n",
    "    move_Forward()\n",
    "    move_Forward()\n",
    "    rotate_right()\n",
    "    move_Forward()\n",
    "    rotate_left()\n",
    "    move_Forward()\n",
    "    move_Forward()\n",
    "}"
   ]
  },
  {
   "attachments": {},
   "cell_type": "markdown",
   "metadata": {},
   "source": [
    "3. Which Is the Correct Way to define the Name of a Procedure?\n",
    "\n",
    "A. PROCEDURE MYLIST\n",
    "\n",
    "B. PROCEDURE MyList\n",
    "\n",
    "C. procedure mylist\n",
    "\n",
    "B"
   ]
  },
  {
   "attachments": {},
   "cell_type": "markdown",
   "metadata": {},
   "source": [
    "4. Write A Procedure That gets the BeachBall To the Green Square"
   ]
  },
  {
   "cell_type": "code",
   "execution_count": null,
   "metadata": {
    "vscode": {
     "languageId": "powershell"
    }
   },
   "outputs": [],
   "source": [
    "PROCEDURE GetBeachballToGreen()\n",
    "{\n",
    "    move_Forward()\n",
    "    rotate_left()\n",
    "    move_Forward()\n",
    "    rotate_right()\n",
    "    move_Forward()\n",
    "    move_Forward()\n",
    "    move_Forward()\n",
    "    move_Forward()\n",
    "    move_Forward()\n",
    "    rotate_left()\n",
    "    move_Forward()\n",
    "    move_Forward()\n",
    "\n",
    "}"
   ]
  }
 ],
 "metadata": {
  "kernelspec": {
   "display_name": "base",
   "language": "python",
   "name": "python3"
  },
  "language_info": {
   "name": "python",
   "version": "3.9.12"
  },
  "orig_nbformat": 4,
  "vscode": {
   "interpreter": {
    "hash": "364a94d119261e0775b1b30a60056d37c36efcef8468b46b1878966affcf428e"
   }
  }
 },
 "nbformat": 4,
 "nbformat_minor": 2
}
